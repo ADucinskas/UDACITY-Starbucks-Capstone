{
 "cells": [
  {
   "cell_type": "markdown",
   "metadata": {},
   "source": [
    "# Starbucks Capstone Challenge\n",
    "\n",
    "### Introduction\n",
    "\n",
    "This data set contains simulated data that mimics customer behavior on the Starbucks rewards mobile app. Once every few days, Starbucks sends out an offer to users of the mobile app. An offer can be merely an advertisement for a drink or an actual offer such as a discount or BOGO (buy one get one free). Some users might not receive any offer during certain weeks. \n",
    "\n",
    "Not all users receive the same offer, and that is the challenge to solve with this data set.\n",
    "\n",
    "Your task is to combine transaction, demographic and offer data to determine which demographic groups respond best to which offer type. This data set is a simplified version of the real Starbucks app because the underlying simulator only has one product whereas Starbucks actually sells dozens of products.\n",
    "\n",
    "Every offer has a validity period before the offer expires. As an example, a BOGO offer might be valid for only 5 days. You'll see in the data set that informational offers have a validity period even though these ads are merely providing information about a product; for example, if an informational offer has 7 days of validity, you can assume the customer is feeling the influence of the offer for 7 days after receiving the advertisement.\n",
    "\n",
    "You'll be given transactional data showing user purchases made on the app including the timestamp of purchase and the amount of money spent on a purchase. This transactional data also has a record for each offer that a user receives as well as a record for when a user actually views the offer. There are also records for when a user completes an offer. \n",
    "\n",
    "Keep in mind as well that someone using the app might make a purchase through the app without having received an offer or seen an offer.\n",
    "\n",
    "### Example\n",
    "\n",
    "To give an example, a user could receive a discount offer buy 10 dollars get 2 off on Monday. The offer is valid for 10 days from receipt. If the customer accumulates at least 10 dollars in purchases during the validity period, the customer completes the offer.\n",
    "\n",
    "However, there are a few things to watch out for in this data set. Customers do not opt into the offers that they receive; in other words, a user can receive an offer, never actually view the offer, and still complete the offer. For example, a user might receive the \"buy 10 dollars get 2 dollars off offer\", but the user never opens the offer during the 10 day validity period. The customer spends 15 dollars during those ten days. There will be an offer completion record in the data set; however, the customer was not influenced by the offer because the customer never viewed the offer.\n",
    "\n",
    "### Cleaning\n",
    "\n",
    "This makes data cleaning especially important and tricky.\n",
    "\n",
    "You'll also want to take into account that some demographic groups will make purchases even if they don't receive an offer. From a business perspective, if a customer is going to make a 10 dollar purchase without an offer anyway, you wouldn't want to send a buy 10 dollars get 2 dollars off offer. You'll want to try to assess what a certain demographic group will buy when not receiving any offers.\n",
    "\n",
    "### Final Advice\n",
    "\n",
    "Because this is a capstone project, you are free to analyze the data any way you see fit. For example, you could build a machine learning model that predicts how much someone will spend based on demographics and offer type. Or you could build a model that predicts whether or not someone will respond to an offer. Or, you don't need to build a machine learning model at all. You could develop a set of heuristics that determine what offer you should send to each customer (i.e., 75 percent of women customers who were 35 years old responded to offer A vs 40 percent from the same demographic to offer B, so send offer A)."
   ]
  },
  {
   "cell_type": "markdown",
   "metadata": {},
   "source": [
    "# Data Sets\n",
    "\n",
    "The data is contained in three files:\n",
    "\n",
    "* portfolio.json - containing offer ids and meta data about each offer (duration, type, etc.)\n",
    "* profile.json - demographic data for each customer\n",
    "* transcript.json - records for transactions, offers received, offers viewed, and offers completed\n",
    "\n",
    "Here is the schema and explanation of each variable in the files:\n",
    "\n",
    "**portfolio.json**\n",
    "* id (string) - offer id\n",
    "* offer_type (string) - type of offer ie BOGO, discount, informational\n",
    "* difficulty (int) - minimum required spend to complete an offer\n",
    "* reward (int) - reward given for completing an offer\n",
    "* duration (int) - time for offer to be open, in days\n",
    "* channels (list of strings)\n",
    "\n",
    "**profile.json**\n",
    "* age (int) - age of the customer \n",
    "* became_member_on (int) - date when customer created an app account\n",
    "* gender (str) - gender of the customer (note some entries contain 'O' for other rather than M or F)\n",
    "* id (str) - customer id\n",
    "* income (float) - customer's income\n",
    "\n",
    "**transcript.json**\n",
    "* event (str) - record description (ie transaction, offer received, offer viewed, etc.)\n",
    "* person (str) - customer id\n",
    "* time (int) - time in hours since start of test. The data begins at time t=0\n",
    "* value - (dict of strings) - either an offer id or transaction amount depending on the record\n",
    "\n",
    "**Note:** If you are using the workspace, you will need to go to the terminal and run the command `conda update pandas` before reading in the files. This is because the version of pandas in the workspace cannot read in the transcript.json file correctly, but the newest version of pandas can. You can access the termnal from the orange icon in the top left of this notebook.  \n",
    "\n",
    "You can see how to access the terminal and how the install works using the two images below.  First you need to access the terminal:\n",
    "\n",
    "<img src=\"pic1.png\"/>\n",
    "\n",
    "Then you will want to run the above command:\n",
    "\n",
    "<img src=\"pic2.png\"/>\n",
    "\n",
    "Finally, when you enter back into the notebook (use the jupyter icon again), you should be able to run the below cell without any errors."
   ]
  },
  {
   "cell_type": "code",
   "execution_count": 1,
   "metadata": {},
   "outputs": [],
   "source": [
    "import pandas as pd\n",
    "import numpy as np\n",
    "import math\n",
    "import json\n",
    "import seaborn as sns\n",
    "import matplotlib.pyplot as plt\n",
    "%matplotlib inline\n",
    "\n",
    "from sklearn.model_selection import train_test_split\n",
    "from sklearn.metrics import confusion_matrix\n",
    "from sklearn.naive_bayes import GaussianNB\n",
    "from sklearn.linear_model import LogisticRegression\n",
    "from sklearn.neighbors import KNeighborsClassifier\n",
    "\n",
    "\n",
    "# read in the json files\n",
    "portfolio = pd.read_json('data/portfolio.json', orient='records', lines=True)\n",
    "profile = pd.read_json('data/profile.json', orient='records', lines=True)\n",
    "transcript = pd.read_json('data/transcript.json', orient='records', lines=True)"
   ]
  },
  {
   "cell_type": "markdown",
   "metadata": {},
   "source": [
    "# The main answer of this study is: How to improve the Starbucks offer strategy? For this reason offer completion rate will be the main metric of interest.\n",
    "\n",
    "\n",
    "## This work book is split into 6 main parts:\n",
    "- Data cleaning\n",
    "- Exploratory data analysis\n",
    "- Data transformation\n",
    "- Data analysis\n",
    "- Main takeaways from data analysis\n",
    "- Data modelling\n",
    "- Conclusion\n",
    "- Improvements"
   ]
  },
  {
   "cell_type": "markdown",
   "metadata": {},
   "source": [
    "## 1. Clean customer profile and transcript data"
   ]
  },
  {
   "cell_type": "code",
   "execution_count": 2,
   "metadata": {},
   "outputs": [
    {
     "data": {
      "text/html": [
       "<div>\n",
       "<style scoped>\n",
       "    .dataframe tbody tr th:only-of-type {\n",
       "        vertical-align: middle;\n",
       "    }\n",
       "\n",
       "    .dataframe tbody tr th {\n",
       "        vertical-align: top;\n",
       "    }\n",
       "\n",
       "    .dataframe thead th {\n",
       "        text-align: right;\n",
       "    }\n",
       "</style>\n",
       "<table border=\"1\" class=\"dataframe\">\n",
       "  <thead>\n",
       "    <tr style=\"text-align: right;\">\n",
       "      <th></th>\n",
       "      <th>reward</th>\n",
       "      <th>channels</th>\n",
       "      <th>difficulty</th>\n",
       "      <th>duration</th>\n",
       "      <th>offer_type</th>\n",
       "      <th>id</th>\n",
       "    </tr>\n",
       "  </thead>\n",
       "  <tbody>\n",
       "    <tr>\n",
       "      <th>0</th>\n",
       "      <td>10</td>\n",
       "      <td>[email, mobile, social]</td>\n",
       "      <td>10</td>\n",
       "      <td>7</td>\n",
       "      <td>bogo</td>\n",
       "      <td>ae264e3637204a6fb9bb56bc8210ddfd</td>\n",
       "    </tr>\n",
       "    <tr>\n",
       "      <th>1</th>\n",
       "      <td>10</td>\n",
       "      <td>[web, email, mobile, social]</td>\n",
       "      <td>10</td>\n",
       "      <td>5</td>\n",
       "      <td>bogo</td>\n",
       "      <td>4d5c57ea9a6940dd891ad53e9dbe8da0</td>\n",
       "    </tr>\n",
       "    <tr>\n",
       "      <th>2</th>\n",
       "      <td>0</td>\n",
       "      <td>[web, email, mobile]</td>\n",
       "      <td>0</td>\n",
       "      <td>4</td>\n",
       "      <td>informational</td>\n",
       "      <td>3f207df678b143eea3cee63160fa8bed</td>\n",
       "    </tr>\n",
       "    <tr>\n",
       "      <th>3</th>\n",
       "      <td>5</td>\n",
       "      <td>[web, email, mobile]</td>\n",
       "      <td>5</td>\n",
       "      <td>7</td>\n",
       "      <td>bogo</td>\n",
       "      <td>9b98b8c7a33c4b65b9aebfe6a799e6d9</td>\n",
       "    </tr>\n",
       "    <tr>\n",
       "      <th>4</th>\n",
       "      <td>5</td>\n",
       "      <td>[web, email]</td>\n",
       "      <td>20</td>\n",
       "      <td>10</td>\n",
       "      <td>discount</td>\n",
       "      <td>0b1e1539f2cc45b7b9fa7c272da2e1d7</td>\n",
       "    </tr>\n",
       "  </tbody>\n",
       "</table>\n",
       "</div>"
      ],
      "text/plain": [
       "   reward                      channels  difficulty  duration     offer_type  \\\n",
       "0      10       [email, mobile, social]          10         7           bogo   \n",
       "1      10  [web, email, mobile, social]          10         5           bogo   \n",
       "2       0          [web, email, mobile]           0         4  informational   \n",
       "3       5          [web, email, mobile]           5         7           bogo   \n",
       "4       5                  [web, email]          20        10       discount   \n",
       "\n",
       "                                 id  \n",
       "0  ae264e3637204a6fb9bb56bc8210ddfd  \n",
       "1  4d5c57ea9a6940dd891ad53e9dbe8da0  \n",
       "2  3f207df678b143eea3cee63160fa8bed  \n",
       "3  9b98b8c7a33c4b65b9aebfe6a799e6d9  \n",
       "4  0b1e1539f2cc45b7b9fa7c272da2e1d7  "
      ]
     },
     "execution_count": 2,
     "metadata": {},
     "output_type": "execute_result"
    }
   ],
   "source": [
    "portfolio.head()"
   ]
  },
  {
   "cell_type": "code",
   "execution_count": 3,
   "metadata": {},
   "outputs": [
    {
     "data": {
      "text/html": [
       "<div>\n",
       "<style scoped>\n",
       "    .dataframe tbody tr th:only-of-type {\n",
       "        vertical-align: middle;\n",
       "    }\n",
       "\n",
       "    .dataframe tbody tr th {\n",
       "        vertical-align: top;\n",
       "    }\n",
       "\n",
       "    .dataframe thead th {\n",
       "        text-align: right;\n",
       "    }\n",
       "</style>\n",
       "<table border=\"1\" class=\"dataframe\">\n",
       "  <thead>\n",
       "    <tr style=\"text-align: right;\">\n",
       "      <th></th>\n",
       "      <th>gender</th>\n",
       "      <th>age</th>\n",
       "      <th>id</th>\n",
       "      <th>became_member_on</th>\n",
       "      <th>income</th>\n",
       "    </tr>\n",
       "  </thead>\n",
       "  <tbody>\n",
       "    <tr>\n",
       "      <th>0</th>\n",
       "      <td>None</td>\n",
       "      <td>118</td>\n",
       "      <td>68be06ca386d4c31939f3a4f0e3dd783</td>\n",
       "      <td>20170212</td>\n",
       "      <td>NaN</td>\n",
       "    </tr>\n",
       "    <tr>\n",
       "      <th>1</th>\n",
       "      <td>F</td>\n",
       "      <td>55</td>\n",
       "      <td>0610b486422d4921ae7d2bf64640c50b</td>\n",
       "      <td>20170715</td>\n",
       "      <td>112000.0</td>\n",
       "    </tr>\n",
       "    <tr>\n",
       "      <th>2</th>\n",
       "      <td>None</td>\n",
       "      <td>118</td>\n",
       "      <td>38fe809add3b4fcf9315a9694bb96ff5</td>\n",
       "      <td>20180712</td>\n",
       "      <td>NaN</td>\n",
       "    </tr>\n",
       "    <tr>\n",
       "      <th>3</th>\n",
       "      <td>F</td>\n",
       "      <td>75</td>\n",
       "      <td>78afa995795e4d85b5d9ceeca43f5fef</td>\n",
       "      <td>20170509</td>\n",
       "      <td>100000.0</td>\n",
       "    </tr>\n",
       "    <tr>\n",
       "      <th>4</th>\n",
       "      <td>None</td>\n",
       "      <td>118</td>\n",
       "      <td>a03223e636434f42ac4c3df47e8bac43</td>\n",
       "      <td>20170804</td>\n",
       "      <td>NaN</td>\n",
       "    </tr>\n",
       "  </tbody>\n",
       "</table>\n",
       "</div>"
      ],
      "text/plain": [
       "  gender  age                                id  became_member_on    income\n",
       "0   None  118  68be06ca386d4c31939f3a4f0e3dd783          20170212       NaN\n",
       "1      F   55  0610b486422d4921ae7d2bf64640c50b          20170715  112000.0\n",
       "2   None  118  38fe809add3b4fcf9315a9694bb96ff5          20180712       NaN\n",
       "3      F   75  78afa995795e4d85b5d9ceeca43f5fef          20170509  100000.0\n",
       "4   None  118  a03223e636434f42ac4c3df47e8bac43          20170804       NaN"
      ]
     },
     "execution_count": 3,
     "metadata": {},
     "output_type": "execute_result"
    }
   ],
   "source": [
    "profile.head()"
   ]
  },
  {
   "cell_type": "code",
   "execution_count": 4,
   "metadata": {},
   "outputs": [
    {
     "data": {
      "text/html": [
       "<div>\n",
       "<style scoped>\n",
       "    .dataframe tbody tr th:only-of-type {\n",
       "        vertical-align: middle;\n",
       "    }\n",
       "\n",
       "    .dataframe tbody tr th {\n",
       "        vertical-align: top;\n",
       "    }\n",
       "\n",
       "    .dataframe thead th {\n",
       "        text-align: right;\n",
       "    }\n",
       "</style>\n",
       "<table border=\"1\" class=\"dataframe\">\n",
       "  <thead>\n",
       "    <tr style=\"text-align: right;\">\n",
       "      <th></th>\n",
       "      <th>person</th>\n",
       "      <th>event</th>\n",
       "      <th>value</th>\n",
       "      <th>time</th>\n",
       "    </tr>\n",
       "  </thead>\n",
       "  <tbody>\n",
       "    <tr>\n",
       "      <th>0</th>\n",
       "      <td>78afa995795e4d85b5d9ceeca43f5fef</td>\n",
       "      <td>offer received</td>\n",
       "      <td>{'offer id': '9b98b8c7a33c4b65b9aebfe6a799e6d9'}</td>\n",
       "      <td>0</td>\n",
       "    </tr>\n",
       "    <tr>\n",
       "      <th>1</th>\n",
       "      <td>a03223e636434f42ac4c3df47e8bac43</td>\n",
       "      <td>offer received</td>\n",
       "      <td>{'offer id': '0b1e1539f2cc45b7b9fa7c272da2e1d7'}</td>\n",
       "      <td>0</td>\n",
       "    </tr>\n",
       "    <tr>\n",
       "      <th>2</th>\n",
       "      <td>e2127556f4f64592b11af22de27a7932</td>\n",
       "      <td>offer received</td>\n",
       "      <td>{'offer id': '2906b810c7d4411798c6938adc9daaa5'}</td>\n",
       "      <td>0</td>\n",
       "    </tr>\n",
       "    <tr>\n",
       "      <th>3</th>\n",
       "      <td>8ec6ce2a7e7949b1bf142def7d0e0586</td>\n",
       "      <td>offer received</td>\n",
       "      <td>{'offer id': 'fafdcd668e3743c1bb461111dcafc2a4'}</td>\n",
       "      <td>0</td>\n",
       "    </tr>\n",
       "    <tr>\n",
       "      <th>4</th>\n",
       "      <td>68617ca6246f4fbc85e91a2a49552598</td>\n",
       "      <td>offer received</td>\n",
       "      <td>{'offer id': '4d5c57ea9a6940dd891ad53e9dbe8da0'}</td>\n",
       "      <td>0</td>\n",
       "    </tr>\n",
       "  </tbody>\n",
       "</table>\n",
       "</div>"
      ],
      "text/plain": [
       "                             person           event  \\\n",
       "0  78afa995795e4d85b5d9ceeca43f5fef  offer received   \n",
       "1  a03223e636434f42ac4c3df47e8bac43  offer received   \n",
       "2  e2127556f4f64592b11af22de27a7932  offer received   \n",
       "3  8ec6ce2a7e7949b1bf142def7d0e0586  offer received   \n",
       "4  68617ca6246f4fbc85e91a2a49552598  offer received   \n",
       "\n",
       "                                              value  time  \n",
       "0  {'offer id': '9b98b8c7a33c4b65b9aebfe6a799e6d9'}     0  \n",
       "1  {'offer id': '0b1e1539f2cc45b7b9fa7c272da2e1d7'}     0  \n",
       "2  {'offer id': '2906b810c7d4411798c6938adc9daaa5'}     0  \n",
       "3  {'offer id': 'fafdcd668e3743c1bb461111dcafc2a4'}     0  \n",
       "4  {'offer id': '4d5c57ea9a6940dd891ad53e9dbe8da0'}     0  "
      ]
     },
     "execution_count": 4,
     "metadata": {},
     "output_type": "execute_result"
    }
   ],
   "source": [
    "transcript.head()"
   ]
  },
  {
   "cell_type": "code",
   "execution_count": 5,
   "metadata": {},
   "outputs": [
    {
     "data": {
      "text/plain": [
       "gender              2175\n",
       "age                    0\n",
       "id                     0\n",
       "became_member_on       0\n",
       "income              2175\n",
       "dtype: int64"
      ]
     },
     "execution_count": 5,
     "metadata": {},
     "output_type": "execute_result"
    }
   ],
   "source": [
    "profile.isnull().sum()"
   ]
  },
  {
   "cell_type": "code",
   "execution_count": 6,
   "metadata": {},
   "outputs": [
    {
     "data": {
      "text/plain": [
       "2175"
      ]
     },
     "execution_count": 6,
     "metadata": {},
     "output_type": "execute_result"
    }
   ],
   "source": [
    "(profile.gender.isnull() & profile.income.isnull()).sum()"
   ]
  },
  {
   "cell_type": "code",
   "execution_count": 7,
   "metadata": {},
   "outputs": [
    {
     "data": {
      "text/plain": [
       "array([118])"
      ]
     },
     "execution_count": 7,
     "metadata": {},
     "output_type": "execute_result"
    }
   ],
   "source": [
    "profile[profile.gender.isnull()].age.unique()"
   ]
  },
  {
   "cell_type": "code",
   "execution_count": 8,
   "metadata": {},
   "outputs": [],
   "source": [
    "## list of person ids  that have no information about gender and income\n",
    "remove_idx=profile[profile.gender.isnull()].id\n",
    "## remove the rows which have no information about gender\n",
    "profile.drop(profile[profile.gender.isnull()].index, inplace=True)\n",
    "transcript = transcript[~transcript.person.isin(remove_idx)]\n",
    "## reset index\n",
    "profile.reset_index(drop=True,inplace=True)\n",
    "transcript.reset_index(drop=True,inplace=True)"
   ]
  },
  {
   "cell_type": "code",
   "execution_count": 9,
   "metadata": {},
   "outputs": [],
   "source": [
    "profile['became_member_on']=pd.to_datetime(profile['became_member_on'], format='%Y%m%d')\n",
    "profile.rename(columns={'id':'person'},inplace=True)\n"
   ]
  },
  {
   "cell_type": "code",
   "execution_count": 10,
   "metadata": {},
   "outputs": [
    {
     "data": {
      "text/html": [
       "<div>\n",
       "<style scoped>\n",
       "    .dataframe tbody tr th:only-of-type {\n",
       "        vertical-align: middle;\n",
       "    }\n",
       "\n",
       "    .dataframe tbody tr th {\n",
       "        vertical-align: top;\n",
       "    }\n",
       "\n",
       "    .dataframe thead th {\n",
       "        text-align: right;\n",
       "    }\n",
       "</style>\n",
       "<table border=\"1\" class=\"dataframe\">\n",
       "  <thead>\n",
       "    <tr style=\"text-align: right;\">\n",
       "      <th></th>\n",
       "      <th>gender</th>\n",
       "      <th>age</th>\n",
       "      <th>person</th>\n",
       "      <th>became_member_on</th>\n",
       "      <th>income</th>\n",
       "    </tr>\n",
       "  </thead>\n",
       "  <tbody>\n",
       "    <tr>\n",
       "      <th>0</th>\n",
       "      <td>F</td>\n",
       "      <td>55</td>\n",
       "      <td>0610b486422d4921ae7d2bf64640c50b</td>\n",
       "      <td>2017-07-15</td>\n",
       "      <td>112000.0</td>\n",
       "    </tr>\n",
       "    <tr>\n",
       "      <th>1</th>\n",
       "      <td>F</td>\n",
       "      <td>75</td>\n",
       "      <td>78afa995795e4d85b5d9ceeca43f5fef</td>\n",
       "      <td>2017-05-09</td>\n",
       "      <td>100000.0</td>\n",
       "    </tr>\n",
       "    <tr>\n",
       "      <th>2</th>\n",
       "      <td>M</td>\n",
       "      <td>68</td>\n",
       "      <td>e2127556f4f64592b11af22de27a7932</td>\n",
       "      <td>2018-04-26</td>\n",
       "      <td>70000.0</td>\n",
       "    </tr>\n",
       "    <tr>\n",
       "      <th>3</th>\n",
       "      <td>M</td>\n",
       "      <td>65</td>\n",
       "      <td>389bc3fa690240e798340f5a15918d5c</td>\n",
       "      <td>2018-02-09</td>\n",
       "      <td>53000.0</td>\n",
       "    </tr>\n",
       "    <tr>\n",
       "      <th>4</th>\n",
       "      <td>M</td>\n",
       "      <td>58</td>\n",
       "      <td>2eeac8d8feae4a8cad5a6af0499a211d</td>\n",
       "      <td>2017-11-11</td>\n",
       "      <td>51000.0</td>\n",
       "    </tr>\n",
       "  </tbody>\n",
       "</table>\n",
       "</div>"
      ],
      "text/plain": [
       "  gender  age                            person became_member_on    income\n",
       "0      F   55  0610b486422d4921ae7d2bf64640c50b       2017-07-15  112000.0\n",
       "1      F   75  78afa995795e4d85b5d9ceeca43f5fef       2017-05-09  100000.0\n",
       "2      M   68  e2127556f4f64592b11af22de27a7932       2018-04-26   70000.0\n",
       "3      M   65  389bc3fa690240e798340f5a15918d5c       2018-02-09   53000.0\n",
       "4      M   58  2eeac8d8feae4a8cad5a6af0499a211d       2017-11-11   51000.0"
      ]
     },
     "execution_count": 10,
     "metadata": {},
     "output_type": "execute_result"
    }
   ],
   "source": [
    "profile.head()"
   ]
  },
  {
   "cell_type": "markdown",
   "metadata": {},
   "source": [
    "## 2. Exploratory data analysis\n",
    "- Check the age distribution of customers\n",
    "- Check the gender proportion of the customer\n",
    "- Check the income distribution of the customer\n",
    "- Check the income vs age distribution\n",
    "- Check the offer table"
   ]
  },
  {
   "cell_type": "code",
   "execution_count": 11,
   "metadata": {},
   "outputs": [
    {
     "data": {
      "image/png": "[encoded data removed]",
      "text/plain": [
       "<Figure size 432x288 with 1 Axes>"
      ]
     },
     "metadata": {
      "needs_background": "light"
     },
     "output_type": "display_data"
    },
    {
     "data": {
      "text/plain": [
       "(None, 55.0, 54.39352445193929)"
      ]
     },
     "execution_count": 11,
     "metadata": {},
     "output_type": "execute_result"
    }
   ],
   "source": [
    "bins= [0,10,20,30,40,50,60,70,80,90,100]\n",
    "x_year = pd.cut(profile.age, bins=bins)\n",
    "sns.countplot(data= profile,x=x_year,hue=profile.gender)\n",
    "plt.xticks(rotation=90)\n",
    "plt.show(), profile.age.median(),profile.age.mean()"
   ]
  },
  {
   "cell_type": "code",
   "execution_count": 12,
   "metadata": {},
   "outputs": [
    {
     "data": {
      "text/plain": [
       "M    0.572277\n",
       "F    0.413423\n",
       "O    0.014300\n",
       "Name: gender, dtype: float64"
      ]
     },
     "execution_count": 12,
     "metadata": {},
     "output_type": "execute_result"
    }
   ],
   "source": [
    "### gender proportion\n",
    "profile.gender.value_counts()/profile.gender.count()"
   ]
  },
  {
   "cell_type": "code",
   "execution_count": 13,
   "metadata": {},
   "outputs": [
    {
     "data": {
      "image/png": "[encoded data removed]",
      "text/plain": [
       "<Figure size 432x288 with 1 Axes>"
      ]
     },
     "metadata": {
      "needs_background": "light"
     },
     "output_type": "display_data"
    },
    {
     "data": {
      "text/plain": [
       "(None, 64000.0, 65404.9915682968)"
      ]
     },
     "execution_count": 13,
     "metadata": {},
     "output_type": "execute_result"
    }
   ],
   "source": [
    "bins = [29999,50000,70000,90000,110000,130000]\n",
    "x_income = pd.cut(profile.income, bins=bins)\n",
    "sns.countplot(data= profile,x=x_income,hue=profile.gender)\n",
    "plt.xticks(rotation=90)\n",
    "plt.show(),profile.income.median(),profile.income.mean()"
   ]
  },
  {
   "cell_type": "code",
   "execution_count": 14,
   "metadata": {},
   "outputs": [
    {
     "data": {
      "image/png": "[encoded data removed]",
      "text/plain": [
       "<Figure size 432x288 with 1 Axes>"
      ]
     },
     "metadata": {
      "needs_background": "light"
     },
     "output_type": "display_data"
    }
   ],
   "source": [
    "sns.boxplot(data= profile,x=x_year,y=profile.income,hue=profile.gender)\n",
    "plt.xticks(rotation=90)\n",
    "plt.show()"
   ]
  },
  {
   "cell_type": "code",
   "execution_count": 15,
   "metadata": {},
   "outputs": [
    {
     "data": {
      "text/plain": [
       "discount         4\n",
       "bogo             4\n",
       "informational    2\n",
       "Name: offer_type, dtype: int64"
      ]
     },
     "execution_count": 15,
     "metadata": {},
     "output_type": "execute_result"
    }
   ],
   "source": [
    "portfolio.offer_type.value_counts()"
   ]
  },
  {
   "cell_type": "markdown",
   "metadata": {},
   "source": [
    "### Main insights from following analysis:\n",
    "- Age distribution is symmetrical\n",
    "- Median/average age of the customer is 55 years\n",
    "- More than half of the customers are males (57.2%)\n",
    "- Income distribution has right-skewed distribution\n",
    "- Median/average income of the customer is 64 000/ 65 000 USD\n",
    "- Females have higher median income than males across all age groups\n",
    "- 4 discount, 4 bogo (buy one get one free) and 2 informational offers\n"
   ]
  },
  {
   "cell_type": "markdown",
   "metadata": {},
   "source": [
    "## 3. Data transformation\n",
    "- Make a reward table by transforming transcript table and unpacking value column\n",
    "- Build a table which shows events per user_id\n",
    "- Make a table which shows total events,awards per user_id "
   ]
  },
  {
   "cell_type": "code",
   "execution_count": 16,
   "metadata": {},
   "outputs": [
    {
     "data": {
      "text/html": [
       "<div>\n",
       "<style scoped>\n",
       "    .dataframe tbody tr th:only-of-type {\n",
       "        vertical-align: middle;\n",
       "    }\n",
       "\n",
       "    .dataframe tbody tr th {\n",
       "        vertical-align: top;\n",
       "    }\n",
       "\n",
       "    .dataframe thead th {\n",
       "        text-align: right;\n",
       "    }\n",
       "</style>\n",
       "<table border=\"1\" class=\"dataframe\">\n",
       "  <thead>\n",
       "    <tr style=\"text-align: right;\">\n",
       "      <th></th>\n",
       "      <th>offer id</th>\n",
       "      <th>amount</th>\n",
       "      <th>offer_id</th>\n",
       "      <th>reward</th>\n",
       "    </tr>\n",
       "  </thead>\n",
       "  <tbody>\n",
       "    <tr>\n",
       "      <th>0</th>\n",
       "      <td>9b98b8c7a33c4b65b9aebfe6a799e6d9</td>\n",
       "      <td>NaN</td>\n",
       "      <td>NaN</td>\n",
       "      <td>NaN</td>\n",
       "    </tr>\n",
       "    <tr>\n",
       "      <th>1</th>\n",
       "      <td>2906b810c7d4411798c6938adc9daaa5</td>\n",
       "      <td>NaN</td>\n",
       "      <td>NaN</td>\n",
       "      <td>NaN</td>\n",
       "    </tr>\n",
       "    <tr>\n",
       "      <th>2</th>\n",
       "      <td>f19421c1d4aa40978ebb69ca19b0e20d</td>\n",
       "      <td>NaN</td>\n",
       "      <td>NaN</td>\n",
       "      <td>NaN</td>\n",
       "    </tr>\n",
       "    <tr>\n",
       "      <th>3</th>\n",
       "      <td>3f207df678b143eea3cee63160fa8bed</td>\n",
       "      <td>NaN</td>\n",
       "      <td>NaN</td>\n",
       "      <td>NaN</td>\n",
       "    </tr>\n",
       "    <tr>\n",
       "      <th>4</th>\n",
       "      <td>0b1e1539f2cc45b7b9fa7c272da2e1d7</td>\n",
       "      <td>NaN</td>\n",
       "      <td>NaN</td>\n",
       "      <td>NaN</td>\n",
       "    </tr>\n",
       "  </tbody>\n",
       "</table>\n",
       "</div>"
      ],
      "text/plain": [
       "                           offer id  amount offer_id  reward\n",
       "0  9b98b8c7a33c4b65b9aebfe6a799e6d9     NaN      NaN     NaN\n",
       "1  2906b810c7d4411798c6938adc9daaa5     NaN      NaN     NaN\n",
       "2  f19421c1d4aa40978ebb69ca19b0e20d     NaN      NaN     NaN\n",
       "3  3f207df678b143eea3cee63160fa8bed     NaN      NaN     NaN\n",
       "4  0b1e1539f2cc45b7b9fa7c272da2e1d7     NaN      NaN     NaN"
      ]
     },
     "execution_count": 16,
     "metadata": {},
     "output_type": "execute_result"
    }
   ],
   "source": [
    "reward_table=pd.json_normalize(transcript.value)\n",
    "reward_table.head()"
   ]
  },
  {
   "cell_type": "code",
   "execution_count": 17,
   "metadata": {},
   "outputs": [
    {
     "data": {
      "text/html": [
       "<div>\n",
       "<style scoped>\n",
       "    .dataframe tbody tr th:only-of-type {\n",
       "        vertical-align: middle;\n",
       "    }\n",
       "\n",
       "    .dataframe tbody tr th {\n",
       "        vertical-align: top;\n",
       "    }\n",
       "\n",
       "    .dataframe thead th {\n",
       "        text-align: right;\n",
       "    }\n",
       "</style>\n",
       "<table border=\"1\" class=\"dataframe\">\n",
       "  <thead>\n",
       "    <tr style=\"text-align: right;\">\n",
       "      <th></th>\n",
       "      <th>amount</th>\n",
       "      <th>offer_id</th>\n",
       "      <th>reward</th>\n",
       "    </tr>\n",
       "  </thead>\n",
       "  <tbody>\n",
       "    <tr>\n",
       "      <th>0</th>\n",
       "      <td>NaN</td>\n",
       "      <td>9b98b8c7a33c4b65b9aebfe6a799e6d9</td>\n",
       "      <td>NaN</td>\n",
       "    </tr>\n",
       "    <tr>\n",
       "      <th>1</th>\n",
       "      <td>NaN</td>\n",
       "      <td>2906b810c7d4411798c6938adc9daaa5</td>\n",
       "      <td>NaN</td>\n",
       "    </tr>\n",
       "    <tr>\n",
       "      <th>2</th>\n",
       "      <td>NaN</td>\n",
       "      <td>f19421c1d4aa40978ebb69ca19b0e20d</td>\n",
       "      <td>NaN</td>\n",
       "    </tr>\n",
       "    <tr>\n",
       "      <th>3</th>\n",
       "      <td>NaN</td>\n",
       "      <td>3f207df678b143eea3cee63160fa8bed</td>\n",
       "      <td>NaN</td>\n",
       "    </tr>\n",
       "    <tr>\n",
       "      <th>4</th>\n",
       "      <td>NaN</td>\n",
       "      <td>0b1e1539f2cc45b7b9fa7c272da2e1d7</td>\n",
       "      <td>NaN</td>\n",
       "    </tr>\n",
       "  </tbody>\n",
       "</table>\n",
       "</div>"
      ],
      "text/plain": [
       "   amount                          offer_id  reward\n",
       "0     NaN  9b98b8c7a33c4b65b9aebfe6a799e6d9     NaN\n",
       "1     NaN  2906b810c7d4411798c6938adc9daaa5     NaN\n",
       "2     NaN  f19421c1d4aa40978ebb69ca19b0e20d     NaN\n",
       "3     NaN  3f207df678b143eea3cee63160fa8bed     NaN\n",
       "4     NaN  0b1e1539f2cc45b7b9fa7c272da2e1d7     NaN"
      ]
     },
     "execution_count": 17,
     "metadata": {},
     "output_type": "execute_result"
    }
   ],
   "source": [
    "## Merge offer id and offer_id columns since they contain similar information \n",
    "reward_table['offer_id'].fillna(reward_table['offer id'],inplace=True)\n",
    "reward_table.drop(columns='offer id',inplace=True)\n",
    "reward_table.head()"
   ]
  },
  {
   "cell_type": "code",
   "execution_count": 18,
   "metadata": {},
   "outputs": [
    {
     "data": {
      "text/html": [
       "<div>\n",
       "<style scoped>\n",
       "    .dataframe tbody tr th:only-of-type {\n",
       "        vertical-align: middle;\n",
       "    }\n",
       "\n",
       "    .dataframe tbody tr th {\n",
       "        vertical-align: top;\n",
       "    }\n",
       "\n",
       "    .dataframe thead th {\n",
       "        text-align: right;\n",
       "    }\n",
       "</style>\n",
       "<table border=\"1\" class=\"dataframe\">\n",
       "  <thead>\n",
       "    <tr style=\"text-align: right;\">\n",
       "      <th></th>\n",
       "      <th>person</th>\n",
       "      <th>event</th>\n",
       "      <th>value</th>\n",
       "      <th>time</th>\n",
       "      <th>amount</th>\n",
       "      <th>offer_id</th>\n",
       "      <th>reward</th>\n",
       "    </tr>\n",
       "  </thead>\n",
       "  <tbody>\n",
       "    <tr>\n",
       "      <th>0</th>\n",
       "      <td>78afa995795e4d85b5d9ceeca43f5fef</td>\n",
       "      <td>offer received</td>\n",
       "      <td>{'offer id': '9b98b8c7a33c4b65b9aebfe6a799e6d9'}</td>\n",
       "      <td>0</td>\n",
       "      <td>NaN</td>\n",
       "      <td>9b98b8c7a33c4b65b9aebfe6a799e6d9</td>\n",
       "      <td>NaN</td>\n",
       "    </tr>\n",
       "    <tr>\n",
       "      <th>1</th>\n",
       "      <td>e2127556f4f64592b11af22de27a7932</td>\n",
       "      <td>offer received</td>\n",
       "      <td>{'offer id': '2906b810c7d4411798c6938adc9daaa5'}</td>\n",
       "      <td>0</td>\n",
       "      <td>NaN</td>\n",
       "      <td>2906b810c7d4411798c6938adc9daaa5</td>\n",
       "      <td>NaN</td>\n",
       "    </tr>\n",
       "    <tr>\n",
       "      <th>2</th>\n",
       "      <td>389bc3fa690240e798340f5a15918d5c</td>\n",
       "      <td>offer received</td>\n",
       "      <td>{'offer id': 'f19421c1d4aa40978ebb69ca19b0e20d'}</td>\n",
       "      <td>0</td>\n",
       "      <td>NaN</td>\n",
       "      <td>f19421c1d4aa40978ebb69ca19b0e20d</td>\n",
       "      <td>NaN</td>\n",
       "    </tr>\n",
       "    <tr>\n",
       "      <th>3</th>\n",
       "      <td>2eeac8d8feae4a8cad5a6af0499a211d</td>\n",
       "      <td>offer received</td>\n",
       "      <td>{'offer id': '3f207df678b143eea3cee63160fa8bed'}</td>\n",
       "      <td>0</td>\n",
       "      <td>NaN</td>\n",
       "      <td>3f207df678b143eea3cee63160fa8bed</td>\n",
       "      <td>NaN</td>\n",
       "    </tr>\n",
       "    <tr>\n",
       "      <th>4</th>\n",
       "      <td>aa4862eba776480b8bb9c68455b8c2e1</td>\n",
       "      <td>offer received</td>\n",
       "      <td>{'offer id': '0b1e1539f2cc45b7b9fa7c272da2e1d7'}</td>\n",
       "      <td>0</td>\n",
       "      <td>NaN</td>\n",
       "      <td>0b1e1539f2cc45b7b9fa7c272da2e1d7</td>\n",
       "      <td>NaN</td>\n",
       "    </tr>\n",
       "  </tbody>\n",
       "</table>\n",
       "</div>"
      ],
      "text/plain": [
       "                             person           event  \\\n",
       "0  78afa995795e4d85b5d9ceeca43f5fef  offer received   \n",
       "1  e2127556f4f64592b11af22de27a7932  offer received   \n",
       "2  389bc3fa690240e798340f5a15918d5c  offer received   \n",
       "3  2eeac8d8feae4a8cad5a6af0499a211d  offer received   \n",
       "4  aa4862eba776480b8bb9c68455b8c2e1  offer received   \n",
       "\n",
       "                                              value  time  amount  \\\n",
       "0  {'offer id': '9b98b8c7a33c4b65b9aebfe6a799e6d9'}     0     NaN   \n",
       "1  {'offer id': '2906b810c7d4411798c6938adc9daaa5'}     0     NaN   \n",
       "2  {'offer id': 'f19421c1d4aa40978ebb69ca19b0e20d'}     0     NaN   \n",
       "3  {'offer id': '3f207df678b143eea3cee63160fa8bed'}     0     NaN   \n",
       "4  {'offer id': '0b1e1539f2cc45b7b9fa7c272da2e1d7'}     0     NaN   \n",
       "\n",
       "                           offer_id  reward  \n",
       "0  9b98b8c7a33c4b65b9aebfe6a799e6d9     NaN  \n",
       "1  2906b810c7d4411798c6938adc9daaa5     NaN  \n",
       "2  f19421c1d4aa40978ebb69ca19b0e20d     NaN  \n",
       "3  3f207df678b143eea3cee63160fa8bed     NaN  \n",
       "4  0b1e1539f2cc45b7b9fa7c272da2e1d7     NaN  "
      ]
     },
     "execution_count": 18,
     "metadata": {},
     "output_type": "execute_result"
    }
   ],
   "source": [
    "ext_transcript=pd.concat([transcript,reward_table],axis=1)\n",
    "ext_transcript.head()"
   ]
  },
  {
   "cell_type": "code",
   "execution_count": 19,
   "metadata": {},
   "outputs": [
    {
     "data": {
      "text/html": [
       "<div>\n",
       "<style scoped>\n",
       "    .dataframe tbody tr th:only-of-type {\n",
       "        vertical-align: middle;\n",
       "    }\n",
       "\n",
       "    .dataframe tbody tr th {\n",
       "        vertical-align: top;\n",
       "    }\n",
       "\n",
       "    .dataframe thead tr th {\n",
       "        text-align: left;\n",
       "    }\n",
       "\n",
       "    .dataframe thead tr:last-of-type th {\n",
       "        text-align: right;\n",
       "    }\n",
       "</style>\n",
       "<table border=\"1\" class=\"dataframe\">\n",
       "  <thead>\n",
       "    <tr>\n",
       "      <th>offer_id</th>\n",
       "      <th colspan=\"2\" halign=\"left\">2906b810c7d4411798c6938adc9daaa5</th>\n",
       "      <th colspan=\"2\" halign=\"left\">3f207df678b143eea3cee63160fa8bed</th>\n",
       "      <th colspan=\"2\" halign=\"left\">5a8bc65990b245e5a138643cd4eb9837</th>\n",
       "      <th colspan=\"3\" halign=\"left\">f19421c1d4aa40978ebb69ca19b0e20d</th>\n",
       "      <th>fafdcd668e3743c1bb461111dcafc2a4</th>\n",
       "      <th>...</th>\n",
       "      <th colspan=\"3\" halign=\"left\">9b98b8c7a33c4b65b9aebfe6a799e6d9</th>\n",
       "      <th colspan=\"3\" halign=\"left\">4d5c57ea9a6940dd891ad53e9dbe8da0</th>\n",
       "      <th colspan=\"3\" halign=\"left\">ae264e3637204a6fb9bb56bc8210ddfd</th>\n",
       "      <th>2906b810c7d4411798c6938adc9daaa5</th>\n",
       "    </tr>\n",
       "    <tr>\n",
       "      <th>event</th>\n",
       "      <th>offer completed</th>\n",
       "      <th>offer received</th>\n",
       "      <th>offer received</th>\n",
       "      <th>offer viewed</th>\n",
       "      <th>offer received</th>\n",
       "      <th>offer viewed</th>\n",
       "      <th>offer completed</th>\n",
       "      <th>offer received</th>\n",
       "      <th>offer viewed</th>\n",
       "      <th>offer completed</th>\n",
       "      <th>...</th>\n",
       "      <th>offer completed</th>\n",
       "      <th>offer received</th>\n",
       "      <th>offer viewed</th>\n",
       "      <th>offer completed</th>\n",
       "      <th>offer received</th>\n",
       "      <th>offer viewed</th>\n",
       "      <th>offer received</th>\n",
       "      <th>offer completed</th>\n",
       "      <th>offer viewed</th>\n",
       "      <th>offer viewed</th>\n",
       "    </tr>\n",
       "    <tr>\n",
       "      <th>person</th>\n",
       "      <th></th>\n",
       "      <th></th>\n",
       "      <th></th>\n",
       "      <th></th>\n",
       "      <th></th>\n",
       "      <th></th>\n",
       "      <th></th>\n",
       "      <th></th>\n",
       "      <th></th>\n",
       "      <th></th>\n",
       "      <th></th>\n",
       "      <th></th>\n",
       "      <th></th>\n",
       "      <th></th>\n",
       "      <th></th>\n",
       "      <th></th>\n",
       "      <th></th>\n",
       "      <th></th>\n",
       "      <th></th>\n",
       "      <th></th>\n",
       "      <th></th>\n",
       "    </tr>\n",
       "  </thead>\n",
       "  <tbody>\n",
       "    <tr>\n",
       "      <th>0009655768c64bdeb2e877511632db8f</th>\n",
       "      <td>1.0</td>\n",
       "      <td>1.0</td>\n",
       "      <td>1.0</td>\n",
       "      <td>1.0</td>\n",
       "      <td>1.0</td>\n",
       "      <td>1.0</td>\n",
       "      <td>1.0</td>\n",
       "      <td>1.0</td>\n",
       "      <td>1.0</td>\n",
       "      <td>1.0</td>\n",
       "      <td>...</td>\n",
       "      <td>NaN</td>\n",
       "      <td>NaN</td>\n",
       "      <td>NaN</td>\n",
       "      <td>NaN</td>\n",
       "      <td>NaN</td>\n",
       "      <td>NaN</td>\n",
       "      <td>NaN</td>\n",
       "      <td>NaN</td>\n",
       "      <td>NaN</td>\n",
       "      <td>NaN</td>\n",
       "    </tr>\n",
       "    <tr>\n",
       "      <th>0011e0d4e6b944f998e987f904e8c1e5</th>\n",
       "      <td>NaN</td>\n",
       "      <td>NaN</td>\n",
       "      <td>1.0</td>\n",
       "      <td>1.0</td>\n",
       "      <td>1.0</td>\n",
       "      <td>1.0</td>\n",
       "      <td>NaN</td>\n",
       "      <td>NaN</td>\n",
       "      <td>NaN</td>\n",
       "      <td>NaN</td>\n",
       "      <td>...</td>\n",
       "      <td>1.0</td>\n",
       "      <td>1.0</td>\n",
       "      <td>1.0</td>\n",
       "      <td>NaN</td>\n",
       "      <td>NaN</td>\n",
       "      <td>NaN</td>\n",
       "      <td>NaN</td>\n",
       "      <td>NaN</td>\n",
       "      <td>NaN</td>\n",
       "      <td>NaN</td>\n",
       "    </tr>\n",
       "    <tr>\n",
       "      <th>0020c2b971eb4e9188eac86d93036a77</th>\n",
       "      <td>NaN</td>\n",
       "      <td>NaN</td>\n",
       "      <td>NaN</td>\n",
       "      <td>NaN</td>\n",
       "      <td>1.0</td>\n",
       "      <td>1.0</td>\n",
       "      <td>NaN</td>\n",
       "      <td>NaN</td>\n",
       "      <td>NaN</td>\n",
       "      <td>2.0</td>\n",
       "      <td>...</td>\n",
       "      <td>NaN</td>\n",
       "      <td>NaN</td>\n",
       "      <td>NaN</td>\n",
       "      <td>1.0</td>\n",
       "      <td>1.0</td>\n",
       "      <td>1.0</td>\n",
       "      <td>1.0</td>\n",
       "      <td>NaN</td>\n",
       "      <td>NaN</td>\n",
       "      <td>NaN</td>\n",
       "    </tr>\n",
       "    <tr>\n",
       "      <th>0020ccbbb6d84e358d3414a3ff76cffd</th>\n",
       "      <td>NaN</td>\n",
       "      <td>NaN</td>\n",
       "      <td>NaN</td>\n",
       "      <td>NaN</td>\n",
       "      <td>1.0</td>\n",
       "      <td>1.0</td>\n",
       "      <td>1.0</td>\n",
       "      <td>1.0</td>\n",
       "      <td>1.0</td>\n",
       "      <td>NaN</td>\n",
       "      <td>...</td>\n",
       "      <td>1.0</td>\n",
       "      <td>1.0</td>\n",
       "      <td>1.0</td>\n",
       "      <td>NaN</td>\n",
       "      <td>NaN</td>\n",
       "      <td>NaN</td>\n",
       "      <td>NaN</td>\n",
       "      <td>NaN</td>\n",
       "      <td>NaN</td>\n",
       "      <td>NaN</td>\n",
       "    </tr>\n",
       "    <tr>\n",
       "      <th>003d66b6608740288d6cc97a6903f4f0</th>\n",
       "      <td>NaN</td>\n",
       "      <td>NaN</td>\n",
       "      <td>1.0</td>\n",
       "      <td>1.0</td>\n",
       "      <td>1.0</td>\n",
       "      <td>1.0</td>\n",
       "      <td>NaN</td>\n",
       "      <td>NaN</td>\n",
       "      <td>NaN</td>\n",
       "      <td>2.0</td>\n",
       "      <td>...</td>\n",
       "      <td>NaN</td>\n",
       "      <td>NaN</td>\n",
       "      <td>NaN</td>\n",
       "      <td>NaN</td>\n",
       "      <td>NaN</td>\n",
       "      <td>NaN</td>\n",
       "      <td>NaN</td>\n",
       "      <td>NaN</td>\n",
       "      <td>NaN</td>\n",
       "      <td>NaN</td>\n",
       "    </tr>\n",
       "  </tbody>\n",
       "</table>\n",
       "<p>5 rows × 28 columns</p>\n",
       "</div>"
      ],
      "text/plain": [
       "offer_id                         2906b810c7d4411798c6938adc9daaa5  \\\n",
       "event                                             offer completed   \n",
       "person                                                              \n",
       "0009655768c64bdeb2e877511632db8f                              1.0   \n",
       "0011e0d4e6b944f998e987f904e8c1e5                              NaN   \n",
       "0020c2b971eb4e9188eac86d93036a77                              NaN   \n",
       "0020ccbbb6d84e358d3414a3ff76cffd                              NaN   \n",
       "003d66b6608740288d6cc97a6903f4f0                              NaN   \n",
       "\n",
       "offer_id                                         \\\n",
       "event                            offer received   \n",
       "person                                            \n",
       "0009655768c64bdeb2e877511632db8f            1.0   \n",
       "0011e0d4e6b944f998e987f904e8c1e5            NaN   \n",
       "0020c2b971eb4e9188eac86d93036a77            NaN   \n",
       "0020ccbbb6d84e358d3414a3ff76cffd            NaN   \n",
       "003d66b6608740288d6cc97a6903f4f0            NaN   \n",
       "\n",
       "offer_id                         3f207df678b143eea3cee63160fa8bed  \\\n",
       "event                                              offer received   \n",
       "person                                                              \n",
       "0009655768c64bdeb2e877511632db8f                              1.0   \n",
       "0011e0d4e6b944f998e987f904e8c1e5                              1.0   \n",
       "0020c2b971eb4e9188eac86d93036a77                              NaN   \n",
       "0020ccbbb6d84e358d3414a3ff76cffd                              NaN   \n",
       "003d66b6608740288d6cc97a6903f4f0                              1.0   \n",
       "\n",
       "offer_id                                       \\\n",
       "event                            offer viewed   \n",
       "person                                          \n",
       "0009655768c64bdeb2e877511632db8f          1.0   \n",
       "0011e0d4e6b944f998e987f904e8c1e5          1.0   \n",
       "0020c2b971eb4e9188eac86d93036a77          NaN   \n",
       "0020ccbbb6d84e358d3414a3ff76cffd          NaN   \n",
       "003d66b6608740288d6cc97a6903f4f0          1.0   \n",
       "\n",
       "offer_id                         5a8bc65990b245e5a138643cd4eb9837  \\\n",
       "event                                              offer received   \n",
       "person                                                              \n",
       "0009655768c64bdeb2e877511632db8f                              1.0   \n",
       "0011e0d4e6b944f998e987f904e8c1e5                              1.0   \n",
       "0020c2b971eb4e9188eac86d93036a77                              1.0   \n",
       "0020ccbbb6d84e358d3414a3ff76cffd                              1.0   \n",
       "003d66b6608740288d6cc97a6903f4f0                              1.0   \n",
       "\n",
       "offer_id                                       \\\n",
       "event                            offer viewed   \n",
       "person                                          \n",
       "0009655768c64bdeb2e877511632db8f          1.0   \n",
       "0011e0d4e6b944f998e987f904e8c1e5          1.0   \n",
       "0020c2b971eb4e9188eac86d93036a77          1.0   \n",
       "0020ccbbb6d84e358d3414a3ff76cffd          1.0   \n",
       "003d66b6608740288d6cc97a6903f4f0          1.0   \n",
       "\n",
       "offer_id                         f19421c1d4aa40978ebb69ca19b0e20d  \\\n",
       "event                                             offer completed   \n",
       "person                                                              \n",
       "0009655768c64bdeb2e877511632db8f                              1.0   \n",
       "0011e0d4e6b944f998e987f904e8c1e5                              NaN   \n",
       "0020c2b971eb4e9188eac86d93036a77                              NaN   \n",
       "0020ccbbb6d84e358d3414a3ff76cffd                              1.0   \n",
       "003d66b6608740288d6cc97a6903f4f0                              NaN   \n",
       "\n",
       "offer_id                                                      \\\n",
       "event                            offer received offer viewed   \n",
       "person                                                         \n",
       "0009655768c64bdeb2e877511632db8f            1.0          1.0   \n",
       "0011e0d4e6b944f998e987f904e8c1e5            NaN          NaN   \n",
       "0020c2b971eb4e9188eac86d93036a77            NaN          NaN   \n",
       "0020ccbbb6d84e358d3414a3ff76cffd            1.0          1.0   \n",
       "003d66b6608740288d6cc97a6903f4f0            NaN          NaN   \n",
       "\n",
       "offer_id                         fafdcd668e3743c1bb461111dcafc2a4  ...  \\\n",
       "event                                             offer completed  ...   \n",
       "person                                                             ...   \n",
       "0009655768c64bdeb2e877511632db8f                              1.0  ...   \n",
       "0011e0d4e6b944f998e987f904e8c1e5                              NaN  ...   \n",
       "0020c2b971eb4e9188eac86d93036a77                              2.0  ...   \n",
       "0020ccbbb6d84e358d3414a3ff76cffd                              NaN  ...   \n",
       "003d66b6608740288d6cc97a6903f4f0                              2.0  ...   \n",
       "\n",
       "offer_id                         9b98b8c7a33c4b65b9aebfe6a799e6d9  \\\n",
       "event                                             offer completed   \n",
       "person                                                              \n",
       "0009655768c64bdeb2e877511632db8f                              NaN   \n",
       "0011e0d4e6b944f998e987f904e8c1e5                              1.0   \n",
       "0020c2b971eb4e9188eac86d93036a77                              NaN   \n",
       "0020ccbbb6d84e358d3414a3ff76cffd                              1.0   \n",
       "003d66b6608740288d6cc97a6903f4f0                              NaN   \n",
       "\n",
       "offer_id                                                      \\\n",
       "event                            offer received offer viewed   \n",
       "person                                                         \n",
       "0009655768c64bdeb2e877511632db8f            NaN          NaN   \n",
       "0011e0d4e6b944f998e987f904e8c1e5            1.0          1.0   \n",
       "0020c2b971eb4e9188eac86d93036a77            NaN          NaN   \n",
       "0020ccbbb6d84e358d3414a3ff76cffd            1.0          1.0   \n",
       "003d66b6608740288d6cc97a6903f4f0            NaN          NaN   \n",
       "\n",
       "offer_id                         4d5c57ea9a6940dd891ad53e9dbe8da0  \\\n",
       "event                                             offer completed   \n",
       "person                                                              \n",
       "0009655768c64bdeb2e877511632db8f                              NaN   \n",
       "0011e0d4e6b944f998e987f904e8c1e5                              NaN   \n",
       "0020c2b971eb4e9188eac86d93036a77                              1.0   \n",
       "0020ccbbb6d84e358d3414a3ff76cffd                              NaN   \n",
       "003d66b6608740288d6cc97a6903f4f0                              NaN   \n",
       "\n",
       "offer_id                                                      \\\n",
       "event                            offer received offer viewed   \n",
       "person                                                         \n",
       "0009655768c64bdeb2e877511632db8f            NaN          NaN   \n",
       "0011e0d4e6b944f998e987f904e8c1e5            NaN          NaN   \n",
       "0020c2b971eb4e9188eac86d93036a77            1.0          1.0   \n",
       "0020ccbbb6d84e358d3414a3ff76cffd            NaN          NaN   \n",
       "003d66b6608740288d6cc97a6903f4f0            NaN          NaN   \n",
       "\n",
       "offer_id                         ae264e3637204a6fb9bb56bc8210ddfd  \\\n",
       "event                                              offer received   \n",
       "person                                                              \n",
       "0009655768c64bdeb2e877511632db8f                              NaN   \n",
       "0011e0d4e6b944f998e987f904e8c1e5                              NaN   \n",
       "0020c2b971eb4e9188eac86d93036a77                              1.0   \n",
       "0020ccbbb6d84e358d3414a3ff76cffd                              NaN   \n",
       "003d66b6608740288d6cc97a6903f4f0                              NaN   \n",
       "\n",
       "offer_id                                                       \\\n",
       "event                            offer completed offer viewed   \n",
       "person                                                          \n",
       "0009655768c64bdeb2e877511632db8f             NaN          NaN   \n",
       "0011e0d4e6b944f998e987f904e8c1e5             NaN          NaN   \n",
       "0020c2b971eb4e9188eac86d93036a77             NaN          NaN   \n",
       "0020ccbbb6d84e358d3414a3ff76cffd             NaN          NaN   \n",
       "003d66b6608740288d6cc97a6903f4f0             NaN          NaN   \n",
       "\n",
       "offer_id                         2906b810c7d4411798c6938adc9daaa5  \n",
       "event                                                offer viewed  \n",
       "person                                                             \n",
       "0009655768c64bdeb2e877511632db8f                              NaN  \n",
       "0011e0d4e6b944f998e987f904e8c1e5                              NaN  \n",
       "0020c2b971eb4e9188eac86d93036a77                              NaN  \n",
       "0020ccbbb6d84e358d3414a3ff76cffd                              NaN  \n",
       "003d66b6608740288d6cc97a6903f4f0                              NaN  \n",
       "\n",
       "[5 rows x 28 columns]"
      ]
     },
     "execution_count": 19,
     "metadata": {},
     "output_type": "execute_result"
    }
   ],
   "source": [
    "### make table with person id as an index and double collumn index (1st-layer offer_id, 2nd layer outcome)\n",
    "offer_stats = ext_transcript.groupby(by=['person','offer_id','event']).value.count().unstack(level=[1,2])\n",
    "offer_stats.head()"
   ]
  },
  {
   "cell_type": "code",
   "execution_count": 20,
   "metadata": {},
   "outputs": [
    {
     "data": {
      "text/html": [
       "<div>\n",
       "<style scoped>\n",
       "    .dataframe tbody tr th:only-of-type {\n",
       "        vertical-align: middle;\n",
       "    }\n",
       "\n",
       "    .dataframe tbody tr th {\n",
       "        vertical-align: top;\n",
       "    }\n",
       "\n",
       "    .dataframe thead th {\n",
       "        text-align: right;\n",
       "    }\n",
       "</style>\n",
       "<table border=\"1\" class=\"dataframe\">\n",
       "  <thead>\n",
       "    <tr style=\"text-align: right;\">\n",
       "      <th></th>\n",
       "      <th>offer completed</th>\n",
       "      <th>offer received</th>\n",
       "      <th>offer viewed</th>\n",
       "      <th>transaction</th>\n",
       "      <th>amount</th>\n",
       "      <th>reward</th>\n",
       "    </tr>\n",
       "    <tr>\n",
       "      <th>person</th>\n",
       "      <th></th>\n",
       "      <th></th>\n",
       "      <th></th>\n",
       "      <th></th>\n",
       "      <th></th>\n",
       "      <th></th>\n",
       "    </tr>\n",
       "  </thead>\n",
       "  <tbody>\n",
       "    <tr>\n",
       "      <th>0009655768c64bdeb2e877511632db8f</th>\n",
       "      <td>3.0</td>\n",
       "      <td>5.0</td>\n",
       "      <td>4.0</td>\n",
       "      <td>8.0</td>\n",
       "      <td>127.60</td>\n",
       "      <td>9.0</td>\n",
       "    </tr>\n",
       "    <tr>\n",
       "      <th>0011e0d4e6b944f998e987f904e8c1e5</th>\n",
       "      <td>3.0</td>\n",
       "      <td>5.0</td>\n",
       "      <td>5.0</td>\n",
       "      <td>5.0</td>\n",
       "      <td>79.46</td>\n",
       "      <td>13.0</td>\n",
       "    </tr>\n",
       "    <tr>\n",
       "      <th>0020c2b971eb4e9188eac86d93036a77</th>\n",
       "      <td>3.0</td>\n",
       "      <td>5.0</td>\n",
       "      <td>3.0</td>\n",
       "      <td>8.0</td>\n",
       "      <td>196.86</td>\n",
       "      <td>14.0</td>\n",
       "    </tr>\n",
       "    <tr>\n",
       "      <th>0020ccbbb6d84e358d3414a3ff76cffd</th>\n",
       "      <td>3.0</td>\n",
       "      <td>4.0</td>\n",
       "      <td>4.0</td>\n",
       "      <td>12.0</td>\n",
       "      <td>154.05</td>\n",
       "      <td>13.0</td>\n",
       "    </tr>\n",
       "    <tr>\n",
       "      <th>003d66b6608740288d6cc97a6903f4f0</th>\n",
       "      <td>3.0</td>\n",
       "      <td>5.0</td>\n",
       "      <td>4.0</td>\n",
       "      <td>18.0</td>\n",
       "      <td>48.34</td>\n",
       "      <td>9.0</td>\n",
       "    </tr>\n",
       "  </tbody>\n",
       "</table>\n",
       "</div>"
      ],
      "text/plain": [
       "                                  offer completed  offer received  \\\n",
       "person                                                              \n",
       "0009655768c64bdeb2e877511632db8f              3.0             5.0   \n",
       "0011e0d4e6b944f998e987f904e8c1e5              3.0             5.0   \n",
       "0020c2b971eb4e9188eac86d93036a77              3.0             5.0   \n",
       "0020ccbbb6d84e358d3414a3ff76cffd              3.0             4.0   \n",
       "003d66b6608740288d6cc97a6903f4f0              3.0             5.0   \n",
       "\n",
       "                                  offer viewed  transaction  amount  reward  \n",
       "person                                                                       \n",
       "0009655768c64bdeb2e877511632db8f           4.0          8.0  127.60     9.0  \n",
       "0011e0d4e6b944f998e987f904e8c1e5           5.0          5.0   79.46    13.0  \n",
       "0020c2b971eb4e9188eac86d93036a77           3.0          8.0  196.86    14.0  \n",
       "0020ccbbb6d84e358d3414a3ff76cffd           4.0         12.0  154.05    13.0  \n",
       "003d66b6608740288d6cc97a6903f4f0           4.0         18.0   48.34     9.0  "
      ]
     },
     "execution_count": 20,
     "metadata": {},
     "output_type": "execute_result"
    }
   ],
   "source": [
    "totals_per_id = transcript.groupby(by=['event','person']).value.count().unstack(level=0)\n",
    "totals_per_id.fillna(0,inplace=True)\n",
    "#events_per_id['cmplt rate'] = events_per_id['offer completed']/events_per_id['offer received']\n",
    "#events_per_id['view rate'] = events_per_id['offer viewed']/events_per_id['offer received']\n",
    "totals_per_id=pd.concat([totals_per_id,ext_transcript.groupby('person')[['amount','reward']].sum()],axis=1)\n",
    "totals_per_id.head()"
   ]
  },
  {
   "cell_type": "markdown",
   "metadata": {},
   "source": [
    "## 4. Further data analysis\n",
    "- How age correlates with the amount of spent money?\n",
    "- How age correlates with the amount of received rewards?\n",
    "- How income correlates with the amount of spent money?\n",
    "- How income correlates with the ammount of received rewards?\n",
    "- Which of the income and age groups spend the most money?\n",
    "- Which way of communication/advertisement is the most effective?\n",
    "- Which offers have the highest view/completion rate? Does it correlate with offer type, reward, difficulty or duration?\n",
    "- Is there any dependence of offer completion on the customer gender,age,income ?"
   ]
  },
  {
   "cell_type": "code",
   "execution_count": 21,
   "metadata": {
    "scrolled": true
   },
   "outputs": [],
   "source": [
    "def sorting(user_info,totals_offers,param):\n",
    "\n",
    "    df1 = user_info.set_index('person')\n",
    "    \n",
    "    df1 = df1[['age','gender','income']]\n",
    "    \n",
    "    result = pd.merge(df1,totals_offers,left_index=True,right_index=True)\n",
    "    \n",
    "    if param[0] == 'age':\n",
    "        \n",
    "        bins= [0,10,20,30,40,50,60,70,80,90,100]\n",
    "        \n",
    "        result['age group'] = pd.cut(result.age, bins=bins)\n",
    "        \n",
    "        sns.boxplot(data=result,x=result['age group'],y=param[1],hue=param[2])\n",
    "        \n",
    "        \n",
    "    elif param[0] == 'income':\n",
    "        \n",
    "        bins = [29999,50000,70000,90000,110000,130000]\n",
    "        \n",
    "        result['income group'] = pd.cut(result.income, bins=bins)\n",
    "        \n",
    "        sns.boxplot(data=result,x=result['income group'],y=param[1],hue=param[2])\n",
    "    "
   ]
  },
  {
   "cell_type": "markdown",
   "metadata": {},
   "source": [
    "### 4.1 Spent money vs age"
   ]
  },
  {
   "cell_type": "code",
   "execution_count": 22,
   "metadata": {},
   "outputs": [
    {
     "data": {
      "image/png": "[encoded data removed]",
      "text/plain": [
       "<Figure size 432x288 with 1 Axes>"
      ]
     },
     "metadata": {
      "needs_background": "light"
     },
     "output_type": "display_data"
    }
   ],
   "source": [
    "sorting(profile,totals_per_id,['age','amount','gender'])\n",
    "plt.xticks(rotation=45)\n",
    "plt.ylim(-5,400)\n",
    "plt.show()\n"
   ]
  },
  {
   "cell_type": "markdown",
   "metadata": {},
   "source": [
    "- #### In all the age groups the median value of spent money is higher for females than males.\n",
    "- #### The median of spent money is in the range of 20-130 USD\n",
    "- #### The most spending group is of the 50-60 age"
   ]
  },
  {
   "cell_type": "markdown",
   "metadata": {},
   "source": [
    "### 4.2 Rewards vs age"
   ]
  },
  {
   "cell_type": "code",
   "execution_count": 23,
   "metadata": {},
   "outputs": [
    {
     "data": {
      "image/png": "[encoded data removed]",
      "text/plain": [
       "<Figure size 432x288 with 1 Axes>"
      ]
     },
     "metadata": {
      "needs_background": "light"
     },
     "output_type": "display_data"
    }
   ],
   "source": [
    "sorting(profile,totals_per_id,['age','reward','gender'])\n",
    "plt.xticks(rotation=45)\n",
    "plt.show()\n",
    "\n"
   ]
  },
  {
   "cell_type": "markdown",
   "metadata": {},
   "source": [
    "- #### In all the age groups the median reward value is higher for females.\n",
    "- #### Median value of rewards is in the range 5-15 USD"
   ]
  },
  {
   "cell_type": "markdown",
   "metadata": {},
   "source": [
    "### 4.3 Spent money vs income"
   ]
  },
  {
   "cell_type": "code",
   "execution_count": 24,
   "metadata": {},
   "outputs": [
    {
     "data": {
      "image/png": "[encoded data removed]",
      "text/plain": [
       "<Figure size 432x288 with 1 Axes>"
      ]
     },
     "metadata": {
      "needs_background": "light"
     },
     "output_type": "display_data"
    }
   ],
   "source": [
    "sorting(profile,totals_per_id,['income','amount','gender'])\n",
    "plt.xticks(rotation=45)\n",
    "plt.ylim(-5,600)\n",
    "plt.show()\n"
   ]
  },
  {
   "cell_type": "markdown",
   "metadata": {},
   "source": [
    "- #### Amount of money spent increases with income group\n",
    "- #### Media amount of money spent is in the range of 50-150 USD"
   ]
  },
  {
   "cell_type": "markdown",
   "metadata": {},
   "source": [
    "### 4.4 Rewards vs income group"
   ]
  },
  {
   "cell_type": "code",
   "execution_count": 25,
   "metadata": {},
   "outputs": [
    {
     "data": {
      "image/png": "[encoded data removed]",
      "text/plain": [
       "<Figure size 432x288 with 1 Axes>"
      ]
     },
     "metadata": {
      "needs_background": "light"
     },
     "output_type": "display_data"
    }
   ],
   "source": [
    "sorting(profile,totals_per_id,['income','reward','gender'])\n",
    "plt.xticks(rotation=45)\n",
    "plt.ylim(-3,70)\n",
    "plt.show()"
   ]
  },
  {
   "cell_type": "markdown",
   "metadata": {},
   "source": [
    "- #### Median value of rewards increases with the income group"
   ]
  },
  {
   "cell_type": "markdown",
   "metadata": {},
   "source": [
    "### 4.5 Which of the income and age groups spend the most ?"
   ]
  },
  {
   "cell_type": "code",
   "execution_count": 26,
   "metadata": {},
   "outputs": [],
   "source": [
    "def spend_stats(user_info,user_offers,param):\n",
    "\n",
    "    df1 = user_info.set_index('person')\n",
    "    \n",
    "    df1 = df1[['age','gender','income']]\n",
    "    \n",
    "    result = pd.merge(df1,user_offers,left_index=True,right_index=True)\n",
    "    \n",
    "    result['age group'] = pd.cut(result.age, bins= [0,10,20,30,40,50,60,70,80,90,100])\n",
    "    \n",
    "    result['income group'] = pd.cut(result.income, bins= [30000,50000,70000,90000,110000,130000])\n",
    "    \n",
    "    if param =='age':\n",
    "        \n",
    "        result=result.groupby('age group')[['amount','reward']].sum()\n",
    "        \n",
    "        \n",
    "    elif param =='income':\n",
    "        \n",
    "        result=result.groupby('income group')[['amount','reward']].sum()\n",
    "        \n",
    "    result['amount']=result['amount']/result['amount'].sum()\n",
    "        \n",
    "    return result['amount'].sort_values(ascending=False)\n",
    "    "
   ]
  },
  {
   "cell_type": "code",
   "execution_count": 27,
   "metadata": {},
   "outputs": [
    {
     "data": {
      "text/plain": [
       "age group\n",
       "(50, 60]     0.263112\n",
       "(60, 70]     0.211254\n",
       "(40, 50]     0.151787\n",
       "(70, 80]     0.121395\n",
       "(30, 40]     0.093713\n",
       "(20, 30]     0.068767\n",
       "(80, 90]     0.059221\n",
       "(90, 100]    0.015919\n",
       "(10, 20]     0.014831\n",
       "(0, 10]      0.000000\n",
       "Name: amount, dtype: float64"
      ]
     },
     "execution_count": 27,
     "metadata": {},
     "output_type": "execute_result"
    }
   ],
   "source": [
    "spend_stats(profile,totals_per_id,'age')"
   ]
  },
  {
   "cell_type": "markdown",
   "metadata": {},
   "source": [
    "- ####  More than for 40 % (~ 47 %) of Starbuck's revenue was recieved from 50-70 years old people.\n",
    "- ####  Young people 10-30 years old only constitute ~8.2 % of total revenue."
   ]
  },
  {
   "cell_type": "code",
   "execution_count": 28,
   "metadata": {},
   "outputs": [
    {
     "data": {
      "text/plain": [
       "income group\n",
       "(70000, 90000]      0.305566\n",
       "(50000, 70000]      0.303771\n",
       "(90000, 110000]     0.184412\n",
       "(30000, 50000]      0.156609\n",
       "(110000, 130000]    0.049642\n",
       "Name: amount, dtype: float64"
      ]
     },
     "execution_count": 28,
     "metadata": {},
     "output_type": "execute_result"
    }
   ],
   "source": [
    "spend_stats(profile,totals_per_id,'income')"
   ]
  },
  {
   "cell_type": "markdown",
   "metadata": {},
   "source": [
    "- #### More than 60 % of revenue was acquired from people having annual income of 50 000 - 90 0000 USD\n",
    "- #### Less that 5 % of revenue came from the group with 110 000 - 130 000 USD income"
   ]
  },
  {
   "cell_type": "markdown",
   "metadata": {},
   "source": [
    " ### 4.6 Which way of communication/advertisement is the most effective?"
   ]
  },
  {
   "cell_type": "code",
   "execution_count": 29,
   "metadata": {},
   "outputs": [],
   "source": [
    "def portfolio_stats (prom_db,offers_db):\n",
    "    \n",
    "    db1 = prom_db.set_index('id')\n",
    "    \n",
    "    offers_sum = pd.DataFrame(offers_db.sum())\n",
    "    \n",
    "    db2 = pd.pivot_table(offers_sum, values=0, index=offers_sum.index.get_level_values(0),\n",
    "                    columns=offers_sum.index.get_level_values(1))\n",
    "    \n",
    "    db2['cmplt rate']=db2['offer completed']/db2['offer received']\n",
    "    \n",
    "    db2['view rate']=db2['offer viewed']/db2['offer received']\n",
    "    \n",
    "    \n",
    "    result = pd.merge(db1,db2,left_index=True,right_index=True)\n",
    "    \n",
    "    result['offer no'] = ([list(portfolio.id).index(i) for i in result.index])\n",
    "    \n",
    "    #return result.sort_values(by=parameter,ascending=False)\n",
    "    return result"
   ]
  },
  {
   "cell_type": "code",
   "execution_count": 30,
   "metadata": {},
   "outputs": [
    {
     "data": {
      "text/html": [
       "<div>\n",
       "<style scoped>\n",
       "    .dataframe tbody tr th:only-of-type {\n",
       "        vertical-align: middle;\n",
       "    }\n",
       "\n",
       "    .dataframe tbody tr th {\n",
       "        vertical-align: top;\n",
       "    }\n",
       "\n",
       "    .dataframe thead th {\n",
       "        text-align: right;\n",
       "    }\n",
       "</style>\n",
       "<table border=\"1\" class=\"dataframe\">\n",
       "  <thead>\n",
       "    <tr style=\"text-align: right;\">\n",
       "      <th></th>\n",
       "      <th>reward</th>\n",
       "      <th>channels</th>\n",
       "      <th>difficulty</th>\n",
       "      <th>duration</th>\n",
       "      <th>offer_type</th>\n",
       "      <th>offer completed</th>\n",
       "      <th>offer received</th>\n",
       "      <th>offer viewed</th>\n",
       "      <th>cmplt rate</th>\n",
       "      <th>view rate</th>\n",
       "      <th>offer no</th>\n",
       "    </tr>\n",
       "  </thead>\n",
       "  <tbody>\n",
       "    <tr>\n",
       "      <th>ae264e3637204a6fb9bb56bc8210ddfd</th>\n",
       "      <td>10</td>\n",
       "      <td>[email, mobile, social]</td>\n",
       "      <td>10</td>\n",
       "      <td>7</td>\n",
       "      <td>bogo</td>\n",
       "      <td>3657.0</td>\n",
       "      <td>6683.0</td>\n",
       "      <td>5901.0</td>\n",
       "      <td>0.547209</td>\n",
       "      <td>0.882987</td>\n",
       "      <td>0</td>\n",
       "    </tr>\n",
       "    <tr>\n",
       "      <th>4d5c57ea9a6940dd891ad53e9dbe8da0</th>\n",
       "      <td>10</td>\n",
       "      <td>[web, email, mobile, social]</td>\n",
       "      <td>10</td>\n",
       "      <td>5</td>\n",
       "      <td>bogo</td>\n",
       "      <td>3310.0</td>\n",
       "      <td>6593.0</td>\n",
       "      <td>6329.0</td>\n",
       "      <td>0.502048</td>\n",
       "      <td>0.959958</td>\n",
       "      <td>1</td>\n",
       "    </tr>\n",
       "    <tr>\n",
       "      <th>3f207df678b143eea3cee63160fa8bed</th>\n",
       "      <td>0</td>\n",
       "      <td>[web, email, mobile]</td>\n",
       "      <td>0</td>\n",
       "      <td>4</td>\n",
       "      <td>informational</td>\n",
       "      <td>NaN</td>\n",
       "      <td>6657.0</td>\n",
       "      <td>3487.0</td>\n",
       "      <td>NaN</td>\n",
       "      <td>0.523810</td>\n",
       "      <td>2</td>\n",
       "    </tr>\n",
       "    <tr>\n",
       "      <th>9b98b8c7a33c4b65b9aebfe6a799e6d9</th>\n",
       "      <td>5</td>\n",
       "      <td>[web, email, mobile]</td>\n",
       "      <td>5</td>\n",
       "      <td>7</td>\n",
       "      <td>bogo</td>\n",
       "      <td>4188.0</td>\n",
       "      <td>6685.0</td>\n",
       "      <td>3499.0</td>\n",
       "      <td>0.626477</td>\n",
       "      <td>0.523411</td>\n",
       "      <td>3</td>\n",
       "    </tr>\n",
       "    <tr>\n",
       "      <th>0b1e1539f2cc45b7b9fa7c272da2e1d7</th>\n",
       "      <td>5</td>\n",
       "      <td>[web, email]</td>\n",
       "      <td>20</td>\n",
       "      <td>10</td>\n",
       "      <td>discount</td>\n",
       "      <td>3386.0</td>\n",
       "      <td>6726.0</td>\n",
       "      <td>2215.0</td>\n",
       "      <td>0.503420</td>\n",
       "      <td>0.329319</td>\n",
       "      <td>4</td>\n",
       "    </tr>\n",
       "    <tr>\n",
       "      <th>2298d6c36e964ae4a3e7e9706d1fb8c2</th>\n",
       "      <td>3</td>\n",
       "      <td>[web, email, mobile, social]</td>\n",
       "      <td>7</td>\n",
       "      <td>7</td>\n",
       "      <td>discount</td>\n",
       "      <td>4886.0</td>\n",
       "      <td>6655.0</td>\n",
       "      <td>6379.0</td>\n",
       "      <td>0.734185</td>\n",
       "      <td>0.958527</td>\n",
       "      <td>5</td>\n",
       "    </tr>\n",
       "    <tr>\n",
       "      <th>fafdcd668e3743c1bb461111dcafc2a4</th>\n",
       "      <td>2</td>\n",
       "      <td>[web, email, mobile, social]</td>\n",
       "      <td>10</td>\n",
       "      <td>10</td>\n",
       "      <td>discount</td>\n",
       "      <td>5003.0</td>\n",
       "      <td>6652.0</td>\n",
       "      <td>6407.0</td>\n",
       "      <td>0.752105</td>\n",
       "      <td>0.963169</td>\n",
       "      <td>6</td>\n",
       "    </tr>\n",
       "    <tr>\n",
       "      <th>5a8bc65990b245e5a138643cd4eb9837</th>\n",
       "      <td>0</td>\n",
       "      <td>[email, mobile, social]</td>\n",
       "      <td>0</td>\n",
       "      <td>3</td>\n",
       "      <td>informational</td>\n",
       "      <td>NaN</td>\n",
       "      <td>6643.0</td>\n",
       "      <td>5873.0</td>\n",
       "      <td>NaN</td>\n",
       "      <td>0.884089</td>\n",
       "      <td>7</td>\n",
       "    </tr>\n",
       "    <tr>\n",
       "      <th>f19421c1d4aa40978ebb69ca19b0e20d</th>\n",
       "      <td>5</td>\n",
       "      <td>[web, email, mobile, social]</td>\n",
       "      <td>5</td>\n",
       "      <td>5</td>\n",
       "      <td>bogo</td>\n",
       "      <td>4103.0</td>\n",
       "      <td>6576.0</td>\n",
       "      <td>6310.0</td>\n",
       "      <td>0.623936</td>\n",
       "      <td>0.959550</td>\n",
       "      <td>8</td>\n",
       "    </tr>\n",
       "    <tr>\n",
       "      <th>2906b810c7d4411798c6938adc9daaa5</th>\n",
       "      <td>2</td>\n",
       "      <td>[web, email, mobile]</td>\n",
       "      <td>10</td>\n",
       "      <td>7</td>\n",
       "      <td>discount</td>\n",
       "      <td>3911.0</td>\n",
       "      <td>6631.0</td>\n",
       "      <td>3460.0</td>\n",
       "      <td>0.589805</td>\n",
       "      <td>0.521792</td>\n",
       "      <td>9</td>\n",
       "    </tr>\n",
       "  </tbody>\n",
       "</table>\n",
       "</div>"
      ],
      "text/plain": [
       "                                  reward                      channels  \\\n",
       "ae264e3637204a6fb9bb56bc8210ddfd      10       [email, mobile, social]   \n",
       "4d5c57ea9a6940dd891ad53e9dbe8da0      10  [web, email, mobile, social]   \n",
       "3f207df678b143eea3cee63160fa8bed       0          [web, email, mobile]   \n",
       "9b98b8c7a33c4b65b9aebfe6a799e6d9       5          [web, email, mobile]   \n",
       "0b1e1539f2cc45b7b9fa7c272da2e1d7       5                  [web, email]   \n",
       "2298d6c36e964ae4a3e7e9706d1fb8c2       3  [web, email, mobile, social]   \n",
       "fafdcd668e3743c1bb461111dcafc2a4       2  [web, email, mobile, social]   \n",
       "5a8bc65990b245e5a138643cd4eb9837       0       [email, mobile, social]   \n",
       "f19421c1d4aa40978ebb69ca19b0e20d       5  [web, email, mobile, social]   \n",
       "2906b810c7d4411798c6938adc9daaa5       2          [web, email, mobile]   \n",
       "\n",
       "                                  difficulty  duration     offer_type  \\\n",
       "ae264e3637204a6fb9bb56bc8210ddfd          10         7           bogo   \n",
       "4d5c57ea9a6940dd891ad53e9dbe8da0          10         5           bogo   \n",
       "3f207df678b143eea3cee63160fa8bed           0         4  informational   \n",
       "9b98b8c7a33c4b65b9aebfe6a799e6d9           5         7           bogo   \n",
       "0b1e1539f2cc45b7b9fa7c272da2e1d7          20        10       discount   \n",
       "2298d6c36e964ae4a3e7e9706d1fb8c2           7         7       discount   \n",
       "fafdcd668e3743c1bb461111dcafc2a4          10        10       discount   \n",
       "5a8bc65990b245e5a138643cd4eb9837           0         3  informational   \n",
       "f19421c1d4aa40978ebb69ca19b0e20d           5         5           bogo   \n",
       "2906b810c7d4411798c6938adc9daaa5          10         7       discount   \n",
       "\n",
       "                                  offer completed  offer received  \\\n",
       "ae264e3637204a6fb9bb56bc8210ddfd           3657.0          6683.0   \n",
       "4d5c57ea9a6940dd891ad53e9dbe8da0           3310.0          6593.0   \n",
       "3f207df678b143eea3cee63160fa8bed              NaN          6657.0   \n",
       "9b98b8c7a33c4b65b9aebfe6a799e6d9           4188.0          6685.0   \n",
       "0b1e1539f2cc45b7b9fa7c272da2e1d7           3386.0          6726.0   \n",
       "2298d6c36e964ae4a3e7e9706d1fb8c2           4886.0          6655.0   \n",
       "fafdcd668e3743c1bb461111dcafc2a4           5003.0          6652.0   \n",
       "5a8bc65990b245e5a138643cd4eb9837              NaN          6643.0   \n",
       "f19421c1d4aa40978ebb69ca19b0e20d           4103.0          6576.0   \n",
       "2906b810c7d4411798c6938adc9daaa5           3911.0          6631.0   \n",
       "\n",
       "                                  offer viewed  cmplt rate  view rate  \\\n",
       "ae264e3637204a6fb9bb56bc8210ddfd        5901.0    0.547209   0.882987   \n",
       "4d5c57ea9a6940dd891ad53e9dbe8da0        6329.0    0.502048   0.959958   \n",
       "3f207df678b143eea3cee63160fa8bed        3487.0         NaN   0.523810   \n",
       "9b98b8c7a33c4b65b9aebfe6a799e6d9        3499.0    0.626477   0.523411   \n",
       "0b1e1539f2cc45b7b9fa7c272da2e1d7        2215.0    0.503420   0.329319   \n",
       "2298d6c36e964ae4a3e7e9706d1fb8c2        6379.0    0.734185   0.958527   \n",
       "fafdcd668e3743c1bb461111dcafc2a4        6407.0    0.752105   0.963169   \n",
       "5a8bc65990b245e5a138643cd4eb9837        5873.0         NaN   0.884089   \n",
       "f19421c1d4aa40978ebb69ca19b0e20d        6310.0    0.623936   0.959550   \n",
       "2906b810c7d4411798c6938adc9daaa5        3460.0    0.589805   0.521792   \n",
       "\n",
       "                                  offer no  \n",
       "ae264e3637204a6fb9bb56bc8210ddfd         0  \n",
       "4d5c57ea9a6940dd891ad53e9dbe8da0         1  \n",
       "3f207df678b143eea3cee63160fa8bed         2  \n",
       "9b98b8c7a33c4b65b9aebfe6a799e6d9         3  \n",
       "0b1e1539f2cc45b7b9fa7c272da2e1d7         4  \n",
       "2298d6c36e964ae4a3e7e9706d1fb8c2         5  \n",
       "fafdcd668e3743c1bb461111dcafc2a4         6  \n",
       "5a8bc65990b245e5a138643cd4eb9837         7  \n",
       "f19421c1d4aa40978ebb69ca19b0e20d         8  \n",
       "2906b810c7d4411798c6938adc9daaa5         9  "
      ]
     },
     "execution_count": 30,
     "metadata": {},
     "output_type": "execute_result"
    }
   ],
   "source": [
    "portfolio_stats(portfolio,offer_stats)\n"
   ]
  },
  {
   "cell_type": "code",
   "execution_count": 31,
   "metadata": {},
   "outputs": [
    {
     "data": {
      "image/png": "[encoded data removed]",
      "text/plain": [
       "<Figure size 432x288 with 1 Axes>"
      ]
     },
     "metadata": {
      "needs_background": "light"
     },
     "output_type": "display_data"
    }
   ],
   "source": [
    "def stats_graph(x, view_param, mean=True):\n",
    "    \n",
    "    db = portfolio_stats(portfolio,offer_stats)\n",
    "    \n",
    "    if x == 'channels':\n",
    "        if mean:\n",
    "            result = db.groupby(db[x].map(tuple)).mean()\n",
    "\n",
    "            plt.bar([str(i) for i in result.index],result[view_param])\n",
    "\n",
    "            plt.xticks(rotation=90)\n",
    "\n",
    "            plt.ylabel('Mean ' + view_param)\n",
    "            \n",
    "            plt.xlabel(x)\n",
    "\n",
    "            plt.plot()\n",
    "            \n",
    "        else:\n",
    "            result = db.groupby(db[x].map(tuple)).median()\n",
    "\n",
    "            plt.bar([str(i) for i in result.index],result[view_param])\n",
    "\n",
    "            plt.xticks(rotation=90)\n",
    "\n",
    "            plt.ylabel('Median ' + view_param)\n",
    "            \n",
    "            plt.xlabel(x)\n",
    "\n",
    "            plt.plot()\n",
    "\n",
    "    else:\n",
    "        \n",
    "        if mean:\n",
    "            result = db.groupby(db[x]).mean()\n",
    "\n",
    "            plt.bar([str(i) for i in result.index],result[view_param])\n",
    "\n",
    "            plt.xticks(rotation=90)\n",
    "\n",
    "            plt.ylabel('Mean ' + view_param)\n",
    "            \n",
    "            plt.xlabel(x)\n",
    "\n",
    "            plt.plot()\n",
    "        else:\n",
    "            result = db.groupby(db[x]).median()\n",
    "\n",
    "            plt.bar([str(i) for i in result.index],result[view_param])\n",
    "\n",
    "            plt.xticks(rotation=90)\n",
    "\n",
    "            plt.ylabel('Median ' + view_param)\n",
    "            \n",
    "            plt.xlabel(x)\n",
    "\n",
    "            plt.plot()\n",
    "\n",
    "        \n",
    "    \n",
    "stats_graph('channels','view rate',True)   "
   ]
  },
  {
   "cell_type": "markdown",
   "metadata": {
    "scrolled": false
   },
   "source": [
    " - #### Promotions dissemenitated through web, email and mobile only reaced every second targeted customer.\n",
    " - #### View rate increases above 80% when social channel is used"
   ]
  },
  {
   "cell_type": "markdown",
   "metadata": {},
   "source": [
    "### 4.7 Which offers were sent to customer the most times?"
   ]
  },
  {
   "cell_type": "code",
   "execution_count": 32,
   "metadata": {},
   "outputs": [
    {
     "data": {
      "image/png": "[encoded data removed]",
      "text/plain": [
       "<Figure size 432x288 with 1 Axes>"
      ]
     },
     "metadata": {
      "needs_background": "light"
     },
     "output_type": "display_data"
    }
   ],
   "source": [
    "portfolio_stats(portfolio,offer_stats).plot.bar(x='offer no',y='offer received')\n",
    "plt.xlabel('offer id')\n",
    "plt.xticks(rotation=0)\n",
    "plt.ylim(0,8400)\n",
    "plt.ylabel('counts')\n",
    "plt.title('Number of offers received')\n",
    "plt.show()"
   ]
  },
  {
   "cell_type": "code",
   "execution_count": 33,
   "metadata": {},
   "outputs": [
    {
     "data": {
      "text/html": [
       "<div>\n",
       "<style scoped>\n",
       "    .dataframe tbody tr th:only-of-type {\n",
       "        vertical-align: middle;\n",
       "    }\n",
       "\n",
       "    .dataframe tbody tr th {\n",
       "        vertical-align: top;\n",
       "    }\n",
       "\n",
       "    .dataframe thead th {\n",
       "        text-align: right;\n",
       "    }\n",
       "</style>\n",
       "<table border=\"1\" class=\"dataframe\">\n",
       "  <thead>\n",
       "    <tr style=\"text-align: right;\">\n",
       "      <th></th>\n",
       "      <th>offer no</th>\n",
       "      <th>offer received</th>\n",
       "    </tr>\n",
       "  </thead>\n",
       "  <tbody>\n",
       "    <tr>\n",
       "      <th>ae264e3637204a6fb9bb56bc8210ddfd</th>\n",
       "      <td>0</td>\n",
       "      <td>6683.0</td>\n",
       "    </tr>\n",
       "    <tr>\n",
       "      <th>4d5c57ea9a6940dd891ad53e9dbe8da0</th>\n",
       "      <td>1</td>\n",
       "      <td>6593.0</td>\n",
       "    </tr>\n",
       "    <tr>\n",
       "      <th>3f207df678b143eea3cee63160fa8bed</th>\n",
       "      <td>2</td>\n",
       "      <td>6657.0</td>\n",
       "    </tr>\n",
       "    <tr>\n",
       "      <th>9b98b8c7a33c4b65b9aebfe6a799e6d9</th>\n",
       "      <td>3</td>\n",
       "      <td>6685.0</td>\n",
       "    </tr>\n",
       "    <tr>\n",
       "      <th>0b1e1539f2cc45b7b9fa7c272da2e1d7</th>\n",
       "      <td>4</td>\n",
       "      <td>6726.0</td>\n",
       "    </tr>\n",
       "    <tr>\n",
       "      <th>2298d6c36e964ae4a3e7e9706d1fb8c2</th>\n",
       "      <td>5</td>\n",
       "      <td>6655.0</td>\n",
       "    </tr>\n",
       "    <tr>\n",
       "      <th>fafdcd668e3743c1bb461111dcafc2a4</th>\n",
       "      <td>6</td>\n",
       "      <td>6652.0</td>\n",
       "    </tr>\n",
       "    <tr>\n",
       "      <th>5a8bc65990b245e5a138643cd4eb9837</th>\n",
       "      <td>7</td>\n",
       "      <td>6643.0</td>\n",
       "    </tr>\n",
       "    <tr>\n",
       "      <th>f19421c1d4aa40978ebb69ca19b0e20d</th>\n",
       "      <td>8</td>\n",
       "      <td>6576.0</td>\n",
       "    </tr>\n",
       "    <tr>\n",
       "      <th>2906b810c7d4411798c6938adc9daaa5</th>\n",
       "      <td>9</td>\n",
       "      <td>6631.0</td>\n",
       "    </tr>\n",
       "  </tbody>\n",
       "</table>\n",
       "</div>"
      ],
      "text/plain": [
       "                                  offer no  offer received\n",
       "ae264e3637204a6fb9bb56bc8210ddfd         0          6683.0\n",
       "4d5c57ea9a6940dd891ad53e9dbe8da0         1          6593.0\n",
       "3f207df678b143eea3cee63160fa8bed         2          6657.0\n",
       "9b98b8c7a33c4b65b9aebfe6a799e6d9         3          6685.0\n",
       "0b1e1539f2cc45b7b9fa7c272da2e1d7         4          6726.0\n",
       "2298d6c36e964ae4a3e7e9706d1fb8c2         5          6655.0\n",
       "fafdcd668e3743c1bb461111dcafc2a4         6          6652.0\n",
       "5a8bc65990b245e5a138643cd4eb9837         7          6643.0\n",
       "f19421c1d4aa40978ebb69ca19b0e20d         8          6576.0\n",
       "2906b810c7d4411798c6938adc9daaa5         9          6631.0"
      ]
     },
     "execution_count": 33,
     "metadata": {},
     "output_type": "execute_result"
    }
   ],
   "source": [
    "portfolio_stats(portfolio,offer_stats)[['offer no','offer received']]"
   ]
  },
  {
   "cell_type": "markdown",
   "metadata": {},
   "source": [
    "- #### There is no sigficant difference in the number of sent offers "
   ]
  },
  {
   "cell_type": "markdown",
   "metadata": {},
   "source": [
    "### 4.7 What is distirbution of completion rate between offers?"
   ]
  },
  {
   "cell_type": "code",
   "execution_count": 34,
   "metadata": {},
   "outputs": [
    {
     "data": {
      "image/png": "[encoded data removed]",
      "text/plain": [
       "<Figure size 432x288 with 1 Axes>"
      ]
     },
     "metadata": {
      "needs_background": "light"
     },
     "output_type": "display_data"
    }
   ],
   "source": [
    "portfolio_stats(portfolio,offer_stats).plot.bar(x='offer no',y=['cmplt rate','view rate'])\n",
    "plt.xlabel('offer id')\n",
    "plt.xticks(rotation=0)\n",
    "plt.ylim(0,1.3)\n",
    "plt.ylabel('counts')\n",
    "plt.title('Fraction of viewed and completed offers')\n",
    "plt.show()"
   ]
  },
  {
   "cell_type": "markdown",
   "metadata": {},
   "source": [
    "### 4.8 Which offers have the highest view/completion rate? Does it correlate with offer type, reward, difficulty or duration?"
   ]
  },
  {
   "cell_type": "markdown",
   "metadata": {},
   "source": [
    "#### 4.8.1 Offer type"
   ]
  },
  {
   "cell_type": "code",
   "execution_count": 35,
   "metadata": {},
   "outputs": [
    {
     "data": {
      "image/png": "[encoded data removed]",
      "text/plain": [
       "<Figure size 432x288 with 1 Axes>"
      ]
     },
     "metadata": {
      "needs_background": "light"
     },
     "output_type": "display_data"
    }
   ],
   "source": [
    "stats_graph('offer_type','view rate')"
   ]
  },
  {
   "cell_type": "code",
   "execution_count": 36,
   "metadata": {},
   "outputs": [
    {
     "data": {
      "image/png": "[encoded data removed]",
      "text/plain": [
       "<Figure size 432x288 with 1 Axes>"
      ]
     },
     "metadata": {
      "needs_background": "light"
     },
     "output_type": "display_data"
    }
   ],
   "source": [
    "stats_graph('offer_type','cmplt rate')"
   ]
  },
  {
   "cell_type": "markdown",
   "metadata": {},
   "source": [
    "- #### Bogo type offers are the most viewed (rate > 80 %), whereas discount and informational have ~70% view rate.\n",
    "- #### Completion is higher for discount type offers (> 60%), while slightly below 60 % of bogo offers are completed."
   ]
  },
  {
   "cell_type": "markdown",
   "metadata": {},
   "source": [
    "#### 4.8.2 Reward"
   ]
  },
  {
   "cell_type": "code",
   "execution_count": 37,
   "metadata": {},
   "outputs": [
    {
     "data": {
      "image/png": "[encoded data removed]",
      "text/plain": [
       "<Figure size 432x288 with 1 Axes>"
      ]
     },
     "metadata": {
      "needs_background": "light"
     },
     "output_type": "display_data"
    }
   ],
   "source": [
    "stats_graph('reward','view rate')"
   ]
  },
  {
   "cell_type": "code",
   "execution_count": 38,
   "metadata": {},
   "outputs": [
    {
     "data": {
      "image/png": "[encoded data removed]",
      "text/plain": [
       "<Figure size 432x288 with 1 Axes>"
      ]
     },
     "metadata": {
      "needs_background": "light"
     },
     "output_type": "display_data"
    }
   ],
   "source": [
    "stats_graph('reward','cmplt rate')"
   ]
  },
  {
   "cell_type": "markdown",
   "metadata": {},
   "source": [
    "- #### There is no clear correlation between reward and view rate.\n",
    "- #### Completion rate is higher for 2-3 USD rewards (> 65 %) than for 5-10 USD rewards (< 60 %). "
   ]
  },
  {
   "cell_type": "markdown",
   "metadata": {},
   "source": [
    "#### 4.8.3 Difficulty"
   ]
  },
  {
   "cell_type": "code",
   "execution_count": 39,
   "metadata": {
    "scrolled": true
   },
   "outputs": [
    {
     "data": {
      "image/png": "[encoded data removed]",
      "text/plain": [
       "<Figure size 432x288 with 1 Axes>"
      ]
     },
     "metadata": {
      "needs_background": "light"
     },
     "output_type": "display_data"
    }
   ],
   "source": [
    "stats_graph('difficulty','view rate')"
   ]
  },
  {
   "cell_type": "code",
   "execution_count": 40,
   "metadata": {},
   "outputs": [
    {
     "data": {
      "image/png": "[encoded data removed]",
      "text/plain": [
       "<Figure size 432x288 with 1 Axes>"
      ]
     },
     "metadata": {
      "needs_background": "light"
     },
     "output_type": "display_data"
    }
   ],
   "source": [
    "stats_graph('difficulty','cmplt rate')"
   ]
  },
  {
   "cell_type": "markdown",
   "metadata": {},
   "source": [
    "- #### View rate is the lowest for the most difficult offer (20 USD), while the remaining ones the view rate is at least twice as big (~60 %)\n",
    "- #### Completion rate varies from ~50% (20 USD difficulty) to ~70% (7 USD difficulty) "
   ]
  },
  {
   "cell_type": "markdown",
   "metadata": {},
   "source": [
    "#### 4.8.4 Duration"
   ]
  },
  {
   "cell_type": "code",
   "execution_count": 41,
   "metadata": {},
   "outputs": [
    {
     "data": {
      "image/png": "[encoded data removed]",
      "text/plain": [
       "<Figure size 432x288 with 1 Axes>"
      ]
     },
     "metadata": {
      "needs_background": "light"
     },
     "output_type": "display_data"
    }
   ],
   "source": [
    "stats_graph('duration','view rate')"
   ]
  },
  {
   "cell_type": "code",
   "execution_count": 42,
   "metadata": {},
   "outputs": [
    {
     "data": {
      "image/png": "[encoded data removed]",
      "text/plain": [
       "<Figure size 432x288 with 1 Axes>"
      ]
     },
     "metadata": {
      "needs_background": "light"
     },
     "output_type": "display_data"
    }
   ],
   "source": [
    "stats_graph('duration','cmplt rate')"
   ]
  },
  {
   "cell_type": "markdown",
   "metadata": {},
   "source": [
    "- #### View rare does not depend on the offer duration, since the highest view rate is recorded for 3 and 5 day offers\n",
    "- #### Completion rate does not strongly depend on the duration of the offer."
   ]
  },
  {
   "cell_type": "markdown",
   "metadata": {},
   "source": [
    "### 4.9 Is there any dependence of offer completion on the customer gender,age,income ?"
   ]
  },
  {
   "cell_type": "code",
   "execution_count": 43,
   "metadata": {},
   "outputs": [],
   "source": [
    "### Shortening the names of columns \n",
    "new_columns=[]\n",
    "for i in offer_stats.columns:\n",
    "    x=list(i)\n",
    "    x[0]=(list(portfolio.id).index(i[0]))\n",
    "    if x[1] == 'offer completed': x[1]='cmpl'\n",
    "    elif x[1] == 'offer received': x[1]='recv'\n",
    "    elif x[1] == 'offer viewed': x[1]='view'    \n",
    "    new_columns.append(tuple(x))   \n",
    "offer_stats.columns=new_columns\n",
    "offer_stats= offer_stats.reindex(sorted(offer_stats.columns), axis=1)"
   ]
  },
  {
   "cell_type": "code",
   "execution_count": 44,
   "metadata": {},
   "outputs": [],
   "source": [
    "\"\"\"\n",
    "db1 - customer information\n",
    "db2 - offer information\n",
    "offer - offer id (int)\n",
    "param - parameter (income,age)\n",
    "gender - Female, Male\n",
    "\"\"\"\n",
    "def customer_profile_stats (db1,db2,offer,param,gender):\n",
    "    ## prepare first table for merge\n",
    "    \n",
    "    customers = db1.set_index('person')\n",
    "    customers = customers[['age','gender','income']]\n",
    "    customers['age'] = pd.cut(customers.age, bins=[10,20,30,40,50,60,70,80,90,100,110])\n",
    "    customers['income']=pd.cut(customers.income, bins = [29999,50000,70000,90000,110000,130000])\n",
    "    \n",
    "    ## merge two tables\n",
    "    \n",
    "    result=pd.merge(customers,db2,left_index=True,right_index=True)\n",
    "    \n",
    "    ## select gender\n",
    "    \n",
    "    result = result[result.gender == gender]\n",
    "    \n",
    "    ## group by selected parameter\n",
    "    \n",
    "    result = result.groupby(by=param).sum()\n",
    "        \n",
    "        \n",
    "    ## select the offer \n",
    "    \n",
    "    off_filter = []\n",
    "    \n",
    "    for i in result.columns:\n",
    "        \n",
    "        if i[0] == offer:\n",
    "            off_filter.append(i)\n",
    "            \n",
    "    off_filter.sort()\n",
    "    \n",
    "    result=result[off_filter]\n",
    "        \n",
    "    return result.div(result[(offer,'recv')],axis=0)*100\n",
    "\n",
    "    "
   ]
  },
  {
   "cell_type": "markdown",
   "metadata": {},
   "source": [
    "#### 4.9.1 Female: age vs completion/view rate"
   ]
  },
  {
   "cell_type": "code",
   "execution_count": 45,
   "metadata": {
    "scrolled": false
   },
   "outputs": [
    {
     "data": {
      "image/png": "[encoded data removed]",
      "text/plain": [
       "<Figure size 2160x504 with 5 Axes>"
      ]
     },
     "metadata": {
      "needs_background": "light"
     },
     "output_type": "display_data"
    }
   ],
   "source": [
    "fig, axs = plt.subplots(1,5,figsize=(30,7))\n",
    "axs=axs.ravel()\n",
    "for i,ax in enumerate(axs):\n",
    "    ax.set_title(str(i)+' offer statistics of Female',fontsize=15)\n",
    "    ax.set_ylim(top=150)\n",
    "    ax.set_ylabel('% of customers',fontsize=15)\n",
    "    ax.xaxis.get_label().set_fontsize(15)\n",
    "    ax.yaxis.get_label().set_fontsize(15)\n",
    "    ax.tick_params(axis='both', which='major', labelsize=15)\n",
    "    customer_profile_stats(profile,offer_stats,i,['age'],'F').plot.bar(rot=90,ax=ax)\n"
   ]
  },
  {
   "cell_type": "code",
   "execution_count": 46,
   "metadata": {},
   "outputs": [
    {
     "data": {
      "image/png": "[encoded data removed]",
      "text/plain": [
       "<Figure size 2160x504 with 5 Axes>"
      ]
     },
     "metadata": {
      "needs_background": "light"
     },
     "output_type": "display_data"
    }
   ],
   "source": [
    "fig, axs = plt.subplots(1,5,figsize=(30,7))\n",
    "axs=axs.ravel()\n",
    "for i,ax in enumerate(axs):\n",
    "    ax.set_title(str(i+5)+' offer statistics of Female',fontsize=15)\n",
    "    ax.set_ylim(top=150)\n",
    "    ax.set_ylabel('% of customers',fontsize=15)\n",
    "    ax.xaxis.get_label().set_fontsize(15)\n",
    "    ax.yaxis.get_label().set_fontsize(15)\n",
    "    ax.tick_params(axis='both', which='major', labelsize=15)\n",
    "    customer_profile_stats(profile,offer_stats,i+5,['age'],'F').plot.bar(rot=90,ax=ax)\n"
   ]
  },
  {
   "cell_type": "markdown",
   "metadata": {},
   "source": [
    "#### 4.9.2 Male: age vs completion/view rate"
   ]
  },
  {
   "cell_type": "code",
   "execution_count": 47,
   "metadata": {},
   "outputs": [
    {
     "data": {
      "image/png": "[encoded data removed]",
      "text/plain": [
       "<Figure size 2160x504 with 5 Axes>"
      ]
     },
     "metadata": {
      "needs_background": "light"
     },
     "output_type": "display_data"
    }
   ],
   "source": [
    "fig, axs = plt.subplots(1,5,figsize=(30,7))\n",
    "axs=axs.ravel()\n",
    "for i,ax in enumerate(axs):\n",
    "    ax.set_title(str(i)+' offer statistics of Male',fontsize=15)\n",
    "    ax.set_ylim(top=150)\n",
    "    ax.set_ylabel('% of customers',fontsize=15)\n",
    "    ax.xaxis.get_label().set_fontsize(15)\n",
    "    ax.yaxis.get_label().set_fontsize(15)\n",
    "    ax.tick_params(axis='both', which='major', labelsize=15)\n",
    "    customer_profile_stats(profile,offer_stats,i,['age'],'M').plot.bar(rot=90,ax=ax)\n"
   ]
  },
  {
   "cell_type": "code",
   "execution_count": 48,
   "metadata": {},
   "outputs": [
    {
     "data": {
      "image/png": "[encoded data removed]",
      "text/plain": [
       "<Figure size 2160x504 with 5 Axes>"
      ]
     },
     "metadata": {
      "needs_background": "light"
     },
     "output_type": "display_data"
    }
   ],
   "source": [
    "fig, axs = plt.subplots(1,5,figsize=(30,7))\n",
    "axs=axs.ravel()\n",
    "for i,ax in enumerate(axs):\n",
    "    ax.set_title(str(i+5)+' offer statistics of Male',fontsize=15)\n",
    "    ax.set_ylim(top=150)\n",
    "    ax.set_ylabel('% of customers',fontsize=15)\n",
    "    ax.xaxis.get_label().set_fontsize(15)\n",
    "    ax.yaxis.get_label().set_fontsize(15)\n",
    "    ax.tick_params(axis='both', which='major', labelsize=15)\n",
    "    customer_profile_stats(profile,offer_stats,i+5,['age'],'M').plot.bar(rot=90,ax=ax)\n"
   ]
  },
  {
   "cell_type": "markdown",
   "metadata": {},
   "source": [
    "#### 4.9.3 Female: income vs completion/view rate"
   ]
  },
  {
   "cell_type": "code",
   "execution_count": 49,
   "metadata": {},
   "outputs": [
    {
     "data": {
      "image/png": "[encoded data removed]",
      "text/plain": [
       "<Figure size 2160x504 with 5 Axes>"
      ]
     },
     "metadata": {
      "needs_background": "light"
     },
     "output_type": "display_data"
    }
   ],
   "source": [
    "fig, axs = plt.subplots(1,5,figsize=(30,7))\n",
    "axs=axs.ravel()\n",
    "for i,ax in enumerate(axs):\n",
    "    ax.set_title(str(i)+' offer statistics of Female',fontsize=15)\n",
    "    ax.set_ylim(top=150)\n",
    "    ax.set_ylabel('% of customers',fontsize=15)\n",
    "    ax.xaxis.get_label().set_fontsize(15)\n",
    "    ax.yaxis.get_label().set_fontsize(15)\n",
    "    ax.tick_params(axis='both', which='major', labelsize=15)\n",
    "    customer_profile_stats(profile,offer_stats,i,['income'],'F').plot.bar(rot=90,ax=ax)\n"
   ]
  },
  {
   "cell_type": "code",
   "execution_count": 50,
   "metadata": {},
   "outputs": [
    {
     "data": {
      "image/png": "[encoded data removed]",
      "text/plain": [
       "<Figure size 2160x504 with 5 Axes>"
      ]
     },
     "metadata": {
      "needs_background": "light"
     },
     "output_type": "display_data"
    }
   ],
   "source": [
    "fig, axs = plt.subplots(1,5,figsize=(30,7))\n",
    "axs=axs.ravel()\n",
    "for i,ax in enumerate(axs):\n",
    "    ax.set_title(str(i+5)+' offer statistics of Female',fontsize=15)\n",
    "    ax.set_ylim(top=150)\n",
    "    ax.set_ylabel('% of customers',fontsize=15)\n",
    "    ax.xaxis.get_label().set_fontsize(15)\n",
    "    ax.yaxis.get_label().set_fontsize(15)\n",
    "    ax.tick_params(axis='both', which='major', labelsize=15)\n",
    "    customer_profile_stats(profile,offer_stats,i+5,['income'],'F').plot.bar(rot=90,ax=ax)\n"
   ]
  },
  {
   "cell_type": "markdown",
   "metadata": {},
   "source": [
    "#### 4.9.4 Male: income vs completion/view rate"
   ]
  },
  {
   "cell_type": "code",
   "execution_count": 51,
   "metadata": {},
   "outputs": [
    {
     "data": {
      "image/png": "[encoded data removed]",
      "text/plain": [
       "<Figure size 2160x504 with 5 Axes>"
      ]
     },
     "metadata": {
      "needs_background": "light"
     },
     "output_type": "display_data"
    }
   ],
   "source": [
    "fig, axs = plt.subplots(1,5,figsize=(30,7))\n",
    "axs=axs.ravel()\n",
    "for i,ax in enumerate(axs):\n",
    "    ax.set_title(str(i)+' offer statistics of Male',fontsize=15)\n",
    "    ax.set_ylim(top=150)\n",
    "    ax.set_ylabel('% of customers',fontsize=15)\n",
    "    ax.xaxis.get_label().set_fontsize(15)\n",
    "    ax.yaxis.get_label().set_fontsize(15)\n",
    "    ax.tick_params(axis='both', which='major', labelsize=15)\n",
    "    customer_profile_stats(profile,offer_stats,i,['income'],'M').plot.bar(rot=90,ax=ax)\n"
   ]
  },
  {
   "cell_type": "code",
   "execution_count": 52,
   "metadata": {},
   "outputs": [
    {
     "data": {
      "image/png": "[encoded data removed]",
      "text/plain": [
       "<Figure size 2160x504 with 5 Axes>"
      ]
     },
     "metadata": {
      "needs_background": "light"
     },
     "output_type": "display_data"
    }
   ],
   "source": [
    "fig, axs = plt.subplots(1,5,figsize=(30,7))\n",
    "axs=axs.ravel()\n",
    "for i,ax in enumerate(axs):\n",
    "    ax.set_title(str(i+5)+' offer statistics of Male',fontsize=15)\n",
    "    ax.set_ylim(top=150)\n",
    "    ax.set_ylabel('% of customers',fontsize=15)\n",
    "    ax.xaxis.get_label().set_fontsize(15)\n",
    "    ax.yaxis.get_label().set_fontsize(15)\n",
    "    ax.tick_params(axis='both', which='major', labelsize=15)\n",
    "    customer_profile_stats(profile,offer_stats,i+5,['income'],'M').plot.bar(rot=90,ax=ax)\n"
   ]
  },
  {
   "cell_type": "code",
   "execution_count": 53,
   "metadata": {},
   "outputs": [
    {
     "data": {
      "text/html": [
       "<div>\n",
       "<style scoped>\n",
       "    .dataframe tbody tr th:only-of-type {\n",
       "        vertical-align: middle;\n",
       "    }\n",
       "\n",
       "    .dataframe tbody tr th {\n",
       "        vertical-align: top;\n",
       "    }\n",
       "\n",
       "    .dataframe thead th {\n",
       "        text-align: right;\n",
       "    }\n",
       "</style>\n",
       "<table border=\"1\" class=\"dataframe\">\n",
       "  <thead>\n",
       "    <tr style=\"text-align: right;\">\n",
       "      <th></th>\n",
       "      <th>reward</th>\n",
       "      <th>channels</th>\n",
       "      <th>difficulty</th>\n",
       "      <th>duration</th>\n",
       "      <th>offer_type</th>\n",
       "      <th>id</th>\n",
       "    </tr>\n",
       "  </thead>\n",
       "  <tbody>\n",
       "    <tr>\n",
       "      <th>0</th>\n",
       "      <td>10</td>\n",
       "      <td>[email, mobile, social]</td>\n",
       "      <td>10</td>\n",
       "      <td>7</td>\n",
       "      <td>bogo</td>\n",
       "      <td>ae264e3637204a6fb9bb56bc8210ddfd</td>\n",
       "    </tr>\n",
       "    <tr>\n",
       "      <th>1</th>\n",
       "      <td>10</td>\n",
       "      <td>[web, email, mobile, social]</td>\n",
       "      <td>10</td>\n",
       "      <td>5</td>\n",
       "      <td>bogo</td>\n",
       "      <td>4d5c57ea9a6940dd891ad53e9dbe8da0</td>\n",
       "    </tr>\n",
       "    <tr>\n",
       "      <th>2</th>\n",
       "      <td>0</td>\n",
       "      <td>[web, email, mobile]</td>\n",
       "      <td>0</td>\n",
       "      <td>4</td>\n",
       "      <td>informational</td>\n",
       "      <td>3f207df678b143eea3cee63160fa8bed</td>\n",
       "    </tr>\n",
       "    <tr>\n",
       "      <th>3</th>\n",
       "      <td>5</td>\n",
       "      <td>[web, email, mobile]</td>\n",
       "      <td>5</td>\n",
       "      <td>7</td>\n",
       "      <td>bogo</td>\n",
       "      <td>9b98b8c7a33c4b65b9aebfe6a799e6d9</td>\n",
       "    </tr>\n",
       "    <tr>\n",
       "      <th>4</th>\n",
       "      <td>5</td>\n",
       "      <td>[web, email]</td>\n",
       "      <td>20</td>\n",
       "      <td>10</td>\n",
       "      <td>discount</td>\n",
       "      <td>0b1e1539f2cc45b7b9fa7c272da2e1d7</td>\n",
       "    </tr>\n",
       "    <tr>\n",
       "      <th>5</th>\n",
       "      <td>3</td>\n",
       "      <td>[web, email, mobile, social]</td>\n",
       "      <td>7</td>\n",
       "      <td>7</td>\n",
       "      <td>discount</td>\n",
       "      <td>2298d6c36e964ae4a3e7e9706d1fb8c2</td>\n",
       "    </tr>\n",
       "    <tr>\n",
       "      <th>6</th>\n",
       "      <td>2</td>\n",
       "      <td>[web, email, mobile, social]</td>\n",
       "      <td>10</td>\n",
       "      <td>10</td>\n",
       "      <td>discount</td>\n",
       "      <td>fafdcd668e3743c1bb461111dcafc2a4</td>\n",
       "    </tr>\n",
       "    <tr>\n",
       "      <th>7</th>\n",
       "      <td>0</td>\n",
       "      <td>[email, mobile, social]</td>\n",
       "      <td>0</td>\n",
       "      <td>3</td>\n",
       "      <td>informational</td>\n",
       "      <td>5a8bc65990b245e5a138643cd4eb9837</td>\n",
       "    </tr>\n",
       "    <tr>\n",
       "      <th>8</th>\n",
       "      <td>5</td>\n",
       "      <td>[web, email, mobile, social]</td>\n",
       "      <td>5</td>\n",
       "      <td>5</td>\n",
       "      <td>bogo</td>\n",
       "      <td>f19421c1d4aa40978ebb69ca19b0e20d</td>\n",
       "    </tr>\n",
       "    <tr>\n",
       "      <th>9</th>\n",
       "      <td>2</td>\n",
       "      <td>[web, email, mobile]</td>\n",
       "      <td>10</td>\n",
       "      <td>7</td>\n",
       "      <td>discount</td>\n",
       "      <td>2906b810c7d4411798c6938adc9daaa5</td>\n",
       "    </tr>\n",
       "  </tbody>\n",
       "</table>\n",
       "</div>"
      ],
      "text/plain": [
       "   reward                      channels  difficulty  duration     offer_type  \\\n",
       "0      10       [email, mobile, social]          10         7           bogo   \n",
       "1      10  [web, email, mobile, social]          10         5           bogo   \n",
       "2       0          [web, email, mobile]           0         4  informational   \n",
       "3       5          [web, email, mobile]           5         7           bogo   \n",
       "4       5                  [web, email]          20        10       discount   \n",
       "5       3  [web, email, mobile, social]           7         7       discount   \n",
       "6       2  [web, email, mobile, social]          10        10       discount   \n",
       "7       0       [email, mobile, social]           0         3  informational   \n",
       "8       5  [web, email, mobile, social]           5         5           bogo   \n",
       "9       2          [web, email, mobile]          10         7       discount   \n",
       "\n",
       "                                 id  \n",
       "0  ae264e3637204a6fb9bb56bc8210ddfd  \n",
       "1  4d5c57ea9a6940dd891ad53e9dbe8da0  \n",
       "2  3f207df678b143eea3cee63160fa8bed  \n",
       "3  9b98b8c7a33c4b65b9aebfe6a799e6d9  \n",
       "4  0b1e1539f2cc45b7b9fa7c272da2e1d7  \n",
       "5  2298d6c36e964ae4a3e7e9706d1fb8c2  \n",
       "6  fafdcd668e3743c1bb461111dcafc2a4  \n",
       "7  5a8bc65990b245e5a138643cd4eb9837  \n",
       "8  f19421c1d4aa40978ebb69ca19b0e20d  \n",
       "9  2906b810c7d4411798c6938adc9daaa5  "
      ]
     },
     "execution_count": 53,
     "metadata": {},
     "output_type": "execute_result"
    }
   ],
   "source": [
    "portfolio"
   ]
  },
  {
   "cell_type": "markdown",
   "metadata": {},
   "source": [
    "## 5. Main takeaways from data analysis\n",
    "Based on this study the suggestions to increase the completion, effectiveness of the Starbucks offers strategy are the following:\n",
    "- Use more social channels to promote the offers\n",
    "- More focus on young people\n",
    "- Target more women than men\n",
    "- Don't send bogo and difficult offers to people with 30000–70000 USD income"
   ]
  },
  {
   "cell_type": "markdown",
   "metadata": {},
   "source": [
    "## 6. Data modelling"
   ]
  },
  {
   "cell_type": "markdown",
   "metadata": {},
   "source": [
    "### 6.1 Building feature table / Data processing"
   ]
  },
  {
   "cell_type": "code",
   "execution_count": 54,
   "metadata": {},
   "outputs": [],
   "source": [
    "### renaming the columns\n",
    "transcript.rename(columns={'person':'person_id'},inplace=True)\n",
    "profile.rename(columns={'person':'person_id'},inplace=True)\n",
    "portfolio.rename(columns={'id': 'offer_id'},inplace=True)\n",
    "\n",
    "## merging transcipt file with the reward table\n",
    "feat_table=pd.merge(transcript,reward_table,left_index=True,right_index=True)\n",
    "feat_table=pd.merge(feat_table,profile,how='left',on='person_id')\n",
    "## getting dummies for event column and merging the data with portfolio table\n",
    "feat_table=pd.get_dummies(feat_table,columns=['event'])\n",
    "feat_table=pd.merge(feat_table,portfolio,how='left',on='offer_id')\n",
    "feat_table.drop(columns='reward_y',inplace=True)\n",
    "feat_table.rename(columns={'reward_x': 'reward'},inplace=True)\n",
    "\n",
    "## getting dummy values for offer_type column\n",
    "feat_table=pd.get_dummies(feat_table,columns=['offer_type'])\n",
    "feat_table['offer_id']=feat_table['offer_id'].replace(list(portfolio.offer_id),np.array(portfolio.index))\n",
    "\n",
    "## getting dummy values for channel column\n",
    "channels=feat_table['channels'].str.join('|').str.get_dummies()\n",
    "feat_table=pd.merge(feat_table,channels,left_index=True,right_index=True)\n",
    "\n",
    "feat_table.rename(columns={'offer_type_bogo':'bogo','offer_type_discount':'discount','offer_type_informational':'informational'},inplace=True)\n",
    "feat_table.rename(columns={'event_offer received':'offer received','event_offer viewed':'offer viewed','event_offer completed':'offer completed',\n",
    "'event_transaction':'transaction'},inplace=True)\n",
    "## taking only year from column 'became_membet_on' and getting dummies for it. \n",
    "## getting dummies for gender column \n",
    "feat_table['became_member_on']=feat_table.became_member_on.dt.year\n",
    "feat_table=pd.get_dummies(feat_table,columns=['gender'])\n",
    "feat_table=pd.get_dummies(feat_table,columns=['became_member_on'])\n"
   ]
  },
  {
   "cell_type": "code",
   "execution_count": 55,
   "metadata": {},
   "outputs": [
    {
     "data": {
      "text/plain": [
       "(272762, 272762)"
      ]
     },
     "execution_count": 55,
     "metadata": {},
     "output_type": "execute_result"
    }
   ],
   "source": [
    "len(feat_table),len(transcript)"
   ]
  },
  {
   "cell_type": "markdown",
   "metadata": {},
   "source": [
    "### 6.2 Feature engineering"
   ]
  },
  {
   "cell_type": "code",
   "execution_count": 56,
   "metadata": {},
   "outputs": [
    {
     "data": {
      "text/html": [
       "<div>\n",
       "<style scoped>\n",
       "    .dataframe tbody tr th:only-of-type {\n",
       "        vertical-align: middle;\n",
       "    }\n",
       "\n",
       "    .dataframe tbody tr th {\n",
       "        vertical-align: top;\n",
       "    }\n",
       "\n",
       "    .dataframe thead th {\n",
       "        text-align: right;\n",
       "    }\n",
       "</style>\n",
       "<table border=\"1\" class=\"dataframe\">\n",
       "  <thead>\n",
       "    <tr style=\"text-align: right;\">\n",
       "      <th></th>\n",
       "      <th>offer completed</th>\n",
       "      <th>offer received</th>\n",
       "      <th>offer viewed</th>\n",
       "      <th>transaction</th>\n",
       "      <th>amount</th>\n",
       "      <th>reward</th>\n",
       "    </tr>\n",
       "    <tr>\n",
       "      <th>person</th>\n",
       "      <th></th>\n",
       "      <th></th>\n",
       "      <th></th>\n",
       "      <th></th>\n",
       "      <th></th>\n",
       "      <th></th>\n",
       "    </tr>\n",
       "  </thead>\n",
       "  <tbody>\n",
       "    <tr>\n",
       "      <th>0009655768c64bdeb2e877511632db8f</th>\n",
       "      <td>3.0</td>\n",
       "      <td>5.0</td>\n",
       "      <td>4.0</td>\n",
       "      <td>8.0</td>\n",
       "      <td>127.60</td>\n",
       "      <td>9.0</td>\n",
       "    </tr>\n",
       "    <tr>\n",
       "      <th>0011e0d4e6b944f998e987f904e8c1e5</th>\n",
       "      <td>3.0</td>\n",
       "      <td>5.0</td>\n",
       "      <td>5.0</td>\n",
       "      <td>5.0</td>\n",
       "      <td>79.46</td>\n",
       "      <td>13.0</td>\n",
       "    </tr>\n",
       "    <tr>\n",
       "      <th>0020c2b971eb4e9188eac86d93036a77</th>\n",
       "      <td>3.0</td>\n",
       "      <td>5.0</td>\n",
       "      <td>3.0</td>\n",
       "      <td>8.0</td>\n",
       "      <td>196.86</td>\n",
       "      <td>14.0</td>\n",
       "    </tr>\n",
       "    <tr>\n",
       "      <th>0020ccbbb6d84e358d3414a3ff76cffd</th>\n",
       "      <td>3.0</td>\n",
       "      <td>4.0</td>\n",
       "      <td>4.0</td>\n",
       "      <td>12.0</td>\n",
       "      <td>154.05</td>\n",
       "      <td>13.0</td>\n",
       "    </tr>\n",
       "    <tr>\n",
       "      <th>003d66b6608740288d6cc97a6903f4f0</th>\n",
       "      <td>3.0</td>\n",
       "      <td>5.0</td>\n",
       "      <td>4.0</td>\n",
       "      <td>18.0</td>\n",
       "      <td>48.34</td>\n",
       "      <td>9.0</td>\n",
       "    </tr>\n",
       "    <tr>\n",
       "      <th>...</th>\n",
       "      <td>...</td>\n",
       "      <td>...</td>\n",
       "      <td>...</td>\n",
       "      <td>...</td>\n",
       "      <td>...</td>\n",
       "      <td>...</td>\n",
       "    </tr>\n",
       "    <tr>\n",
       "      <th>fff3ba4757bd42088c044ca26d73817a</th>\n",
       "      <td>3.0</td>\n",
       "      <td>6.0</td>\n",
       "      <td>3.0</td>\n",
       "      <td>11.0</td>\n",
       "      <td>580.98</td>\n",
       "      <td>9.0</td>\n",
       "    </tr>\n",
       "    <tr>\n",
       "      <th>fff7576017104bcc8677a8d63322b5e1</th>\n",
       "      <td>3.0</td>\n",
       "      <td>5.0</td>\n",
       "      <td>4.0</td>\n",
       "      <td>6.0</td>\n",
       "      <td>29.94</td>\n",
       "      <td>9.0</td>\n",
       "    </tr>\n",
       "    <tr>\n",
       "      <th>fff8957ea8b240a6b5e634b6ee8eafcf</th>\n",
       "      <td>0.0</td>\n",
       "      <td>3.0</td>\n",
       "      <td>2.0</td>\n",
       "      <td>5.0</td>\n",
       "      <td>12.15</td>\n",
       "      <td>0.0</td>\n",
       "    </tr>\n",
       "    <tr>\n",
       "      <th>fffad4f4828548d1b5583907f2e9906b</th>\n",
       "      <td>3.0</td>\n",
       "      <td>4.0</td>\n",
       "      <td>4.0</td>\n",
       "      <td>12.0</td>\n",
       "      <td>88.83</td>\n",
       "      <td>15.0</td>\n",
       "    </tr>\n",
       "    <tr>\n",
       "      <th>ffff82501cea40309d5fdd7edcca4a07</th>\n",
       "      <td>6.0</td>\n",
       "      <td>6.0</td>\n",
       "      <td>6.0</td>\n",
       "      <td>15.0</td>\n",
       "      <td>226.07</td>\n",
       "      <td>18.0</td>\n",
       "    </tr>\n",
       "  </tbody>\n",
       "</table>\n",
       "<p>14825 rows × 6 columns</p>\n",
       "</div>"
      ],
      "text/plain": [
       "                                  offer completed  offer received  \\\n",
       "person                                                              \n",
       "0009655768c64bdeb2e877511632db8f              3.0             5.0   \n",
       "0011e0d4e6b944f998e987f904e8c1e5              3.0             5.0   \n",
       "0020c2b971eb4e9188eac86d93036a77              3.0             5.0   \n",
       "0020ccbbb6d84e358d3414a3ff76cffd              3.0             4.0   \n",
       "003d66b6608740288d6cc97a6903f4f0              3.0             5.0   \n",
       "...                                           ...             ...   \n",
       "fff3ba4757bd42088c044ca26d73817a              3.0             6.0   \n",
       "fff7576017104bcc8677a8d63322b5e1              3.0             5.0   \n",
       "fff8957ea8b240a6b5e634b6ee8eafcf              0.0             3.0   \n",
       "fffad4f4828548d1b5583907f2e9906b              3.0             4.0   \n",
       "ffff82501cea40309d5fdd7edcca4a07              6.0             6.0   \n",
       "\n",
       "                                  offer viewed  transaction  amount  reward  \n",
       "person                                                                       \n",
       "0009655768c64bdeb2e877511632db8f           4.0          8.0  127.60     9.0  \n",
       "0011e0d4e6b944f998e987f904e8c1e5           5.0          5.0   79.46    13.0  \n",
       "0020c2b971eb4e9188eac86d93036a77           3.0          8.0  196.86    14.0  \n",
       "0020ccbbb6d84e358d3414a3ff76cffd           4.0         12.0  154.05    13.0  \n",
       "003d66b6608740288d6cc97a6903f4f0           4.0         18.0   48.34     9.0  \n",
       "...                                        ...          ...     ...     ...  \n",
       "fff3ba4757bd42088c044ca26d73817a           3.0         11.0  580.98     9.0  \n",
       "fff7576017104bcc8677a8d63322b5e1           4.0          6.0   29.94     9.0  \n",
       "fff8957ea8b240a6b5e634b6ee8eafcf           2.0          5.0   12.15     0.0  \n",
       "fffad4f4828548d1b5583907f2e9906b           4.0         12.0   88.83    15.0  \n",
       "ffff82501cea40309d5fdd7edcca4a07           6.0         15.0  226.07    18.0  \n",
       "\n",
       "[14825 rows x 6 columns]"
      ]
     },
     "execution_count": 56,
     "metadata": {},
     "output_type": "execute_result"
    }
   ],
   "source": [
    "totals_per_id"
   ]
  },
  {
   "cell_type": "code",
   "execution_count": 57,
   "metadata": {},
   "outputs": [],
   "source": [
    "### making extra feature: average spending per transaction\n",
    "totals_per_id.reset_index(inplace=True)\n",
    "totals_per_id['avg_spend']=totals_per_id.amount/totals_per_id.transaction\n",
    "totals_per_id['avg_reward']=totals_per_id.reward/(totals_per_id['offer completed'])\n",
    "extra_feat=totals_per_id[['person','avg_spend','avg_reward']]"
   ]
  },
  {
   "cell_type": "code",
   "execution_count": 58,
   "metadata": {},
   "outputs": [
    {
     "name": "stderr",
     "output_type": "stream",
     "text": [
      "/usr/local/lib/python3.9/site-packages/pandas/core/frame.py:4438: SettingWithCopyWarning: \n",
      "A value is trying to be set on a copy of a slice from a DataFrame\n",
      "\n",
      "See the caveats in the documentation: https://pandas.pydata.org/pandas-docs/stable/user_guide/indexing.html#returning-a-view-versus-a-copy\n",
      "  return super().rename(\n"
     ]
    },
    {
     "data": {
      "text/html": [
       "<div>\n",
       "<style scoped>\n",
       "    .dataframe tbody tr th:only-of-type {\n",
       "        vertical-align: middle;\n",
       "    }\n",
       "\n",
       "    .dataframe tbody tr th {\n",
       "        vertical-align: top;\n",
       "    }\n",
       "\n",
       "    .dataframe thead th {\n",
       "        text-align: right;\n",
       "    }\n",
       "</style>\n",
       "<table border=\"1\" class=\"dataframe\">\n",
       "  <thead>\n",
       "    <tr style=\"text-align: right;\">\n",
       "      <th></th>\n",
       "      <th>person_id</th>\n",
       "      <th>avg_spend</th>\n",
       "      <th>avg_reward</th>\n",
       "    </tr>\n",
       "  </thead>\n",
       "  <tbody>\n",
       "    <tr>\n",
       "      <th>0</th>\n",
       "      <td>0009655768c64bdeb2e877511632db8f</td>\n",
       "      <td>15.950000</td>\n",
       "      <td>3.000000</td>\n",
       "    </tr>\n",
       "    <tr>\n",
       "      <th>1</th>\n",
       "      <td>0011e0d4e6b944f998e987f904e8c1e5</td>\n",
       "      <td>15.892000</td>\n",
       "      <td>4.333333</td>\n",
       "    </tr>\n",
       "    <tr>\n",
       "      <th>2</th>\n",
       "      <td>0020c2b971eb4e9188eac86d93036a77</td>\n",
       "      <td>24.607500</td>\n",
       "      <td>4.666667</td>\n",
       "    </tr>\n",
       "    <tr>\n",
       "      <th>3</th>\n",
       "      <td>0020ccbbb6d84e358d3414a3ff76cffd</td>\n",
       "      <td>12.837500</td>\n",
       "      <td>4.333333</td>\n",
       "    </tr>\n",
       "    <tr>\n",
       "      <th>4</th>\n",
       "      <td>003d66b6608740288d6cc97a6903f4f0</td>\n",
       "      <td>2.685556</td>\n",
       "      <td>3.000000</td>\n",
       "    </tr>\n",
       "  </tbody>\n",
       "</table>\n",
       "</div>"
      ],
      "text/plain": [
       "                          person_id  avg_spend  avg_reward\n",
       "0  0009655768c64bdeb2e877511632db8f  15.950000    3.000000\n",
       "1  0011e0d4e6b944f998e987f904e8c1e5  15.892000    4.333333\n",
       "2  0020c2b971eb4e9188eac86d93036a77  24.607500    4.666667\n",
       "3  0020ccbbb6d84e358d3414a3ff76cffd  12.837500    4.333333\n",
       "4  003d66b6608740288d6cc97a6903f4f0   2.685556    3.000000"
      ]
     },
     "execution_count": 58,
     "metadata": {},
     "output_type": "execute_result"
    }
   ],
   "source": [
    "extra_feat.rename(columns={'person':'person_id'},inplace=True)\n",
    "extra_feat.head()\n"
   ]
  },
  {
   "cell_type": "code",
   "execution_count": 59,
   "metadata": {},
   "outputs": [],
   "source": [
    "feat_table=pd.merge(feat_table,extra_feat,how='left',on='person_id')"
   ]
  },
  {
   "cell_type": "code",
   "execution_count": 60,
   "metadata": {},
   "outputs": [
    {
     "data": {
      "text/html": [
       "<div>\n",
       "<style scoped>\n",
       "    .dataframe tbody tr th:only-of-type {\n",
       "        vertical-align: middle;\n",
       "    }\n",
       "\n",
       "    .dataframe tbody tr th {\n",
       "        vertical-align: top;\n",
       "    }\n",
       "\n",
       "    .dataframe thead th {\n",
       "        text-align: right;\n",
       "    }\n",
       "</style>\n",
       "<table border=\"1\" class=\"dataframe\">\n",
       "  <thead>\n",
       "    <tr style=\"text-align: right;\">\n",
       "      <th></th>\n",
       "      <th>person_id</th>\n",
       "      <th>value</th>\n",
       "      <th>time</th>\n",
       "      <th>amount</th>\n",
       "      <th>offer_id</th>\n",
       "      <th>reward</th>\n",
       "      <th>age</th>\n",
       "      <th>income</th>\n",
       "      <th>offer completed</th>\n",
       "      <th>offer received</th>\n",
       "      <th>...</th>\n",
       "      <th>gender_M</th>\n",
       "      <th>gender_O</th>\n",
       "      <th>became_member_on_2013</th>\n",
       "      <th>became_member_on_2014</th>\n",
       "      <th>became_member_on_2015</th>\n",
       "      <th>became_member_on_2016</th>\n",
       "      <th>became_member_on_2017</th>\n",
       "      <th>became_member_on_2018</th>\n",
       "      <th>avg_spend</th>\n",
       "      <th>avg_reward</th>\n",
       "    </tr>\n",
       "  </thead>\n",
       "  <tbody>\n",
       "    <tr>\n",
       "      <th>0</th>\n",
       "      <td>78afa995795e4d85b5d9ceeca43f5fef</td>\n",
       "      <td>{'offer id': '9b98b8c7a33c4b65b9aebfe6a799e6d9'}</td>\n",
       "      <td>0</td>\n",
       "      <td>NaN</td>\n",
       "      <td>3.0</td>\n",
       "      <td>NaN</td>\n",
       "      <td>75</td>\n",
       "      <td>100000.0</td>\n",
       "      <td>0</td>\n",
       "      <td>1</td>\n",
       "      <td>...</td>\n",
       "      <td>0</td>\n",
       "      <td>0</td>\n",
       "      <td>0</td>\n",
       "      <td>0</td>\n",
       "      <td>0</td>\n",
       "      <td>0</td>\n",
       "      <td>1</td>\n",
       "      <td>0</td>\n",
       "      <td>22.752857</td>\n",
       "      <td>6.666667</td>\n",
       "    </tr>\n",
       "    <tr>\n",
       "      <th>1</th>\n",
       "      <td>e2127556f4f64592b11af22de27a7932</td>\n",
       "      <td>{'offer id': '2906b810c7d4411798c6938adc9daaa5'}</td>\n",
       "      <td>0</td>\n",
       "      <td>NaN</td>\n",
       "      <td>9.0</td>\n",
       "      <td>NaN</td>\n",
       "      <td>68</td>\n",
       "      <td>70000.0</td>\n",
       "      <td>0</td>\n",
       "      <td>1</td>\n",
       "      <td>...</td>\n",
       "      <td>1</td>\n",
       "      <td>0</td>\n",
       "      <td>0</td>\n",
       "      <td>0</td>\n",
       "      <td>0</td>\n",
       "      <td>0</td>\n",
       "      <td>0</td>\n",
       "      <td>1</td>\n",
       "      <td>19.243333</td>\n",
       "      <td>3.500000</td>\n",
       "    </tr>\n",
       "    <tr>\n",
       "      <th>2</th>\n",
       "      <td>389bc3fa690240e798340f5a15918d5c</td>\n",
       "      <td>{'offer id': 'f19421c1d4aa40978ebb69ca19b0e20d'}</td>\n",
       "      <td>0</td>\n",
       "      <td>NaN</td>\n",
       "      <td>8.0</td>\n",
       "      <td>NaN</td>\n",
       "      <td>65</td>\n",
       "      <td>53000.0</td>\n",
       "      <td>0</td>\n",
       "      <td>1</td>\n",
       "      <td>...</td>\n",
       "      <td>1</td>\n",
       "      <td>0</td>\n",
       "      <td>0</td>\n",
       "      <td>0</td>\n",
       "      <td>0</td>\n",
       "      <td>0</td>\n",
       "      <td>0</td>\n",
       "      <td>1</td>\n",
       "      <td>12.143333</td>\n",
       "      <td>3.800000</td>\n",
       "    </tr>\n",
       "    <tr>\n",
       "      <th>3</th>\n",
       "      <td>2eeac8d8feae4a8cad5a6af0499a211d</td>\n",
       "      <td>{'offer id': '3f207df678b143eea3cee63160fa8bed'}</td>\n",
       "      <td>0</td>\n",
       "      <td>NaN</td>\n",
       "      <td>2.0</td>\n",
       "      <td>NaN</td>\n",
       "      <td>58</td>\n",
       "      <td>51000.0</td>\n",
       "      <td>0</td>\n",
       "      <td>1</td>\n",
       "      <td>...</td>\n",
       "      <td>1</td>\n",
       "      <td>0</td>\n",
       "      <td>0</td>\n",
       "      <td>0</td>\n",
       "      <td>0</td>\n",
       "      <td>0</td>\n",
       "      <td>1</td>\n",
       "      <td>0</td>\n",
       "      <td>3.905000</td>\n",
       "      <td>2.000000</td>\n",
       "    </tr>\n",
       "    <tr>\n",
       "      <th>4</th>\n",
       "      <td>aa4862eba776480b8bb9c68455b8c2e1</td>\n",
       "      <td>{'offer id': '0b1e1539f2cc45b7b9fa7c272da2e1d7'}</td>\n",
       "      <td>0</td>\n",
       "      <td>NaN</td>\n",
       "      <td>4.0</td>\n",
       "      <td>NaN</td>\n",
       "      <td>61</td>\n",
       "      <td>57000.0</td>\n",
       "      <td>0</td>\n",
       "      <td>1</td>\n",
       "      <td>...</td>\n",
       "      <td>0</td>\n",
       "      <td>0</td>\n",
       "      <td>0</td>\n",
       "      <td>0</td>\n",
       "      <td>0</td>\n",
       "      <td>0</td>\n",
       "      <td>1</td>\n",
       "      <td>0</td>\n",
       "      <td>14.258333</td>\n",
       "      <td>8.333333</td>\n",
       "    </tr>\n",
       "  </tbody>\n",
       "</table>\n",
       "<p>5 rows × 33 columns</p>\n",
       "</div>"
      ],
      "text/plain": [
       "                          person_id  \\\n",
       "0  78afa995795e4d85b5d9ceeca43f5fef   \n",
       "1  e2127556f4f64592b11af22de27a7932   \n",
       "2  389bc3fa690240e798340f5a15918d5c   \n",
       "3  2eeac8d8feae4a8cad5a6af0499a211d   \n",
       "4  aa4862eba776480b8bb9c68455b8c2e1   \n",
       "\n",
       "                                              value  time  amount  offer_id  \\\n",
       "0  {'offer id': '9b98b8c7a33c4b65b9aebfe6a799e6d9'}     0     NaN       3.0   \n",
       "1  {'offer id': '2906b810c7d4411798c6938adc9daaa5'}     0     NaN       9.0   \n",
       "2  {'offer id': 'f19421c1d4aa40978ebb69ca19b0e20d'}     0     NaN       8.0   \n",
       "3  {'offer id': '3f207df678b143eea3cee63160fa8bed'}     0     NaN       2.0   \n",
       "4  {'offer id': '0b1e1539f2cc45b7b9fa7c272da2e1d7'}     0     NaN       4.0   \n",
       "\n",
       "   reward  age    income  offer completed  offer received  ...  gender_M  \\\n",
       "0     NaN   75  100000.0                0               1  ...         0   \n",
       "1     NaN   68   70000.0                0               1  ...         1   \n",
       "2     NaN   65   53000.0                0               1  ...         1   \n",
       "3     NaN   58   51000.0                0               1  ...         1   \n",
       "4     NaN   61   57000.0                0               1  ...         0   \n",
       "\n",
       "   gender_O became_member_on_2013  became_member_on_2014  \\\n",
       "0         0                     0                      0   \n",
       "1         0                     0                      0   \n",
       "2         0                     0                      0   \n",
       "3         0                     0                      0   \n",
       "4         0                     0                      0   \n",
       "\n",
       "   became_member_on_2015  became_member_on_2016  became_member_on_2017  \\\n",
       "0                      0                      0                      1   \n",
       "1                      0                      0                      0   \n",
       "2                      0                      0                      0   \n",
       "3                      0                      0                      1   \n",
       "4                      0                      0                      1   \n",
       "\n",
       "   became_member_on_2018  avg_spend  avg_reward  \n",
       "0                      0  22.752857    6.666667  \n",
       "1                      1  19.243333    3.500000  \n",
       "2                      1  12.143333    3.800000  \n",
       "3                      0   3.905000    2.000000  \n",
       "4                      0  14.258333    8.333333  \n",
       "\n",
       "[5 rows x 33 columns]"
      ]
     },
     "execution_count": 60,
     "metadata": {},
     "output_type": "execute_result"
    }
   ],
   "source": [
    "feat_table.head()"
   ]
  },
  {
   "cell_type": "code",
   "execution_count": 61,
   "metadata": {},
   "outputs": [],
   "source": [
    "## removing redundant \n",
    "feat_table.drop(columns=['value','channels'],inplace=True)"
   ]
  },
  {
   "cell_type": "code",
   "execution_count": 62,
   "metadata": {},
   "outputs": [
    {
     "data": {
      "text/plain": [
       "Index(['person_id', 'time', 'amount', 'offer_id', 'reward', 'age', 'income',\n",
       "       'offer completed', 'offer received', 'offer viewed', 'transaction',\n",
       "       'difficulty', 'duration', 'bogo', 'discount', 'informational', 'email',\n",
       "       'mobile', 'social', 'web', 'gender_F', 'gender_M', 'gender_O',\n",
       "       'became_member_on_2013', 'became_member_on_2014',\n",
       "       'became_member_on_2015', 'became_member_on_2016',\n",
       "       'became_member_on_2017', 'became_member_on_2018', 'avg_spend',\n",
       "       'avg_reward'],\n",
       "      dtype='object')"
      ]
     },
     "execution_count": 62,
     "metadata": {},
     "output_type": "execute_result"
    }
   ],
   "source": [
    "feat_table.columns"
   ]
  },
  {
   "cell_type": "code",
   "execution_count": 63,
   "metadata": {},
   "outputs": [
    {
     "data": {
      "text/plain": [
       "person_id                     0\n",
       "time                          0\n",
       "amount                   148805\n",
       "offer_id                 123957\n",
       "reward                   240318\n",
       "age                           0\n",
       "income                        0\n",
       "offer completed               0\n",
       "offer received                0\n",
       "offer viewed                  0\n",
       "transaction                   0\n",
       "difficulty               123957\n",
       "duration                 123957\n",
       "bogo                          0\n",
       "discount                      0\n",
       "informational                 0\n",
       "email                         0\n",
       "mobile                        0\n",
       "social                        0\n",
       "web                           0\n",
       "gender_F                      0\n",
       "gender_M                      0\n",
       "gender_O                      0\n",
       "became_member_on_2013         0\n",
       "became_member_on_2014         0\n",
       "became_member_on_2015         0\n",
       "became_member_on_2016         0\n",
       "became_member_on_2017         0\n",
       "became_member_on_2018         0\n",
       "avg_spend                  2617\n",
       "avg_reward                33495\n",
       "dtype: int64"
      ]
     },
     "execution_count": 63,
     "metadata": {},
     "output_type": "execute_result"
    }
   ],
   "source": [
    "feat_table.isnull().sum()"
   ]
  },
  {
   "cell_type": "markdown",
   "metadata": {},
   "source": [
    "### 6.3 Dealing with missing values:\n",
    "1. offer_id drop values\n",
    "2. remove amount and reward columns\n",
    "3. fill nan with 0 in avg_spend and avg_reward"
   ]
  },
  {
   "cell_type": "code",
   "execution_count": 64,
   "metadata": {},
   "outputs": [],
   "source": [
    "feat_table.drop(columns=['reward','amount'],inplace=True)\n",
    "feat_table.drop(feat_table[feat_table.offer_id.isnull()].index,inplace=True)\n",
    "feat_table.fillna(0.0,inplace=True)"
   ]
  },
  {
   "cell_type": "code",
   "execution_count": 65,
   "metadata": {},
   "outputs": [
    {
     "data": {
      "text/plain": [
       "person_id                0\n",
       "time                     0\n",
       "offer_id                 0\n",
       "age                      0\n",
       "income                   0\n",
       "offer completed          0\n",
       "offer received           0\n",
       "offer viewed             0\n",
       "transaction              0\n",
       "difficulty               0\n",
       "duration                 0\n",
       "bogo                     0\n",
       "discount                 0\n",
       "informational            0\n",
       "email                    0\n",
       "mobile                   0\n",
       "social                   0\n",
       "web                      0\n",
       "gender_F                 0\n",
       "gender_M                 0\n",
       "gender_O                 0\n",
       "became_member_on_2013    0\n",
       "became_member_on_2014    0\n",
       "became_member_on_2015    0\n",
       "became_member_on_2016    0\n",
       "became_member_on_2017    0\n",
       "became_member_on_2018    0\n",
       "avg_spend                0\n",
       "avg_reward               0\n",
       "dtype: int64"
      ]
     },
     "execution_count": 65,
     "metadata": {},
     "output_type": "execute_result"
    }
   ],
   "source": [
    "feat_table.isnull().sum()"
   ]
  },
  {
   "cell_type": "markdown",
   "metadata": {},
   "source": [
    "## 6.4 Metrics to evaluate the model\n",
    "Since dataset classes are imbalanced, sensitivity (true positive rate) and specificity (true negative rate) is taken into account to evaluate the model performance."
   ]
  },
  {
   "cell_type": "code",
   "execution_count": 68,
   "metadata": {},
   "outputs": [
    {
     "data": {
      "text/plain": [
       "(0    98945\n",
       " 1    49860\n",
       " Name: offer viewed, dtype: int64,\n",
       " 0    116361\n",
       " 1     32444\n",
       " Name: offer completed, dtype: int64)"
      ]
     },
     "execution_count": 68,
     "metadata": {},
     "output_type": "execute_result"
    }
   ],
   "source": [
    "feat_table['offer viewed'].value_counts(),feat_table['offer completed'].value_counts()"
   ]
  },
  {
   "cell_type": "markdown",
   "metadata": {},
   "source": [
    "### 6.5 Test different classification algorithms\n",
    "1. Naive Bayes Classifier \n",
    "2. Logistic Regression Classifier  \n",
    "3. K-nearest neighbours "
   ]
  },
  {
   "cell_type": "code",
   "execution_count": 69,
   "metadata": {},
   "outputs": [],
   "source": [
    "def X_Y (param):\n",
    "    \n",
    "    if param == 'completed':\n",
    "        \n",
    "        data = feat_table[feat_table.informational == 0]\n",
    "        \n",
    "        X = data[['time','age', 'income', 'avg_spend','avg_reward',\n",
    "       'difficulty', 'duration', 'bogo', 'discount', 'email',\n",
    "       'mobile', 'social', 'web', 'gender_F', 'gender_M', 'gender_O',\n",
    "       'became_member_on_2013', 'became_member_on_2014',\n",
    "       'became_member_on_2015', 'became_member_on_2016',\n",
    "       'became_member_on_2017', 'became_member_on_2018','offer received','offer viewed']]\n",
    "        \n",
    "        y = data['offer completed']\n",
    "        \n",
    "    if param == 'viewed':\n",
    "        \n",
    "        X = feat_table[['time', 'age', 'income', 'avg_spend','avg_reward',\n",
    "       'difficulty', 'duration', 'bogo', 'discount', 'informational', 'email',\n",
    "       'mobile', 'social', 'web', 'gender_F', 'gender_M', 'gender_O',\n",
    "       'became_member_on_2013', 'became_member_on_2014',\n",
    "       'became_member_on_2015', 'became_member_on_2016',\n",
    "       'became_member_on_2017', 'became_member_on_2018','offer received']]\n",
    "        \n",
    "        y = feat_table['offer viewed']\n",
    "        \n",
    "    return X,y   "
   ]
  },
  {
   "cell_type": "code",
   "execution_count": 70,
   "metadata": {},
   "outputs": [],
   "source": [
    "X,y=X_Y('viewed')"
   ]
  },
  {
   "cell_type": "code",
   "execution_count": 71,
   "metadata": {},
   "outputs": [
    {
     "data": {
      "text/html": [
       "<div>\n",
       "<style scoped>\n",
       "    .dataframe tbody tr th:only-of-type {\n",
       "        vertical-align: middle;\n",
       "    }\n",
       "\n",
       "    .dataframe tbody tr th {\n",
       "        vertical-align: top;\n",
       "    }\n",
       "\n",
       "    .dataframe thead th {\n",
       "        text-align: right;\n",
       "    }\n",
       "</style>\n",
       "<table border=\"1\" class=\"dataframe\">\n",
       "  <thead>\n",
       "    <tr style=\"text-align: right;\">\n",
       "      <th></th>\n",
       "      <th>time</th>\n",
       "      <th>age</th>\n",
       "      <th>income</th>\n",
       "      <th>avg_spend</th>\n",
       "      <th>avg_reward</th>\n",
       "      <th>difficulty</th>\n",
       "      <th>duration</th>\n",
       "      <th>bogo</th>\n",
       "      <th>discount</th>\n",
       "      <th>informational</th>\n",
       "      <th>...</th>\n",
       "      <th>gender_F</th>\n",
       "      <th>gender_M</th>\n",
       "      <th>gender_O</th>\n",
       "      <th>became_member_on_2013</th>\n",
       "      <th>became_member_on_2014</th>\n",
       "      <th>became_member_on_2015</th>\n",
       "      <th>became_member_on_2016</th>\n",
       "      <th>became_member_on_2017</th>\n",
       "      <th>became_member_on_2018</th>\n",
       "      <th>offer received</th>\n",
       "    </tr>\n",
       "  </thead>\n",
       "  <tbody>\n",
       "    <tr>\n",
       "      <th>0</th>\n",
       "      <td>0</td>\n",
       "      <td>75</td>\n",
       "      <td>100000.0</td>\n",
       "      <td>22.752857</td>\n",
       "      <td>6.666667</td>\n",
       "      <td>5.0</td>\n",
       "      <td>7.0</td>\n",
       "      <td>1</td>\n",
       "      <td>0</td>\n",
       "      <td>0</td>\n",
       "      <td>...</td>\n",
       "      <td>1</td>\n",
       "      <td>0</td>\n",
       "      <td>0</td>\n",
       "      <td>0</td>\n",
       "      <td>0</td>\n",
       "      <td>0</td>\n",
       "      <td>0</td>\n",
       "      <td>1</td>\n",
       "      <td>0</td>\n",
       "      <td>1</td>\n",
       "    </tr>\n",
       "    <tr>\n",
       "      <th>1</th>\n",
       "      <td>0</td>\n",
       "      <td>68</td>\n",
       "      <td>70000.0</td>\n",
       "      <td>19.243333</td>\n",
       "      <td>3.500000</td>\n",
       "      <td>10.0</td>\n",
       "      <td>7.0</td>\n",
       "      <td>0</td>\n",
       "      <td>1</td>\n",
       "      <td>0</td>\n",
       "      <td>...</td>\n",
       "      <td>0</td>\n",
       "      <td>1</td>\n",
       "      <td>0</td>\n",
       "      <td>0</td>\n",
       "      <td>0</td>\n",
       "      <td>0</td>\n",
       "      <td>0</td>\n",
       "      <td>0</td>\n",
       "      <td>1</td>\n",
       "      <td>1</td>\n",
       "    </tr>\n",
       "    <tr>\n",
       "      <th>2</th>\n",
       "      <td>0</td>\n",
       "      <td>65</td>\n",
       "      <td>53000.0</td>\n",
       "      <td>12.143333</td>\n",
       "      <td>3.800000</td>\n",
       "      <td>5.0</td>\n",
       "      <td>5.0</td>\n",
       "      <td>1</td>\n",
       "      <td>0</td>\n",
       "      <td>0</td>\n",
       "      <td>...</td>\n",
       "      <td>0</td>\n",
       "      <td>1</td>\n",
       "      <td>0</td>\n",
       "      <td>0</td>\n",
       "      <td>0</td>\n",
       "      <td>0</td>\n",
       "      <td>0</td>\n",
       "      <td>0</td>\n",
       "      <td>1</td>\n",
       "      <td>1</td>\n",
       "    </tr>\n",
       "    <tr>\n",
       "      <th>3</th>\n",
       "      <td>0</td>\n",
       "      <td>58</td>\n",
       "      <td>51000.0</td>\n",
       "      <td>3.905000</td>\n",
       "      <td>2.000000</td>\n",
       "      <td>0.0</td>\n",
       "      <td>4.0</td>\n",
       "      <td>0</td>\n",
       "      <td>0</td>\n",
       "      <td>1</td>\n",
       "      <td>...</td>\n",
       "      <td>0</td>\n",
       "      <td>1</td>\n",
       "      <td>0</td>\n",
       "      <td>0</td>\n",
       "      <td>0</td>\n",
       "      <td>0</td>\n",
       "      <td>0</td>\n",
       "      <td>1</td>\n",
       "      <td>0</td>\n",
       "      <td>1</td>\n",
       "    </tr>\n",
       "    <tr>\n",
       "      <th>4</th>\n",
       "      <td>0</td>\n",
       "      <td>61</td>\n",
       "      <td>57000.0</td>\n",
       "      <td>14.258333</td>\n",
       "      <td>8.333333</td>\n",
       "      <td>20.0</td>\n",
       "      <td>10.0</td>\n",
       "      <td>0</td>\n",
       "      <td>1</td>\n",
       "      <td>0</td>\n",
       "      <td>...</td>\n",
       "      <td>1</td>\n",
       "      <td>0</td>\n",
       "      <td>0</td>\n",
       "      <td>0</td>\n",
       "      <td>0</td>\n",
       "      <td>0</td>\n",
       "      <td>0</td>\n",
       "      <td>1</td>\n",
       "      <td>0</td>\n",
       "      <td>1</td>\n",
       "    </tr>\n",
       "  </tbody>\n",
       "</table>\n",
       "<p>5 rows × 24 columns</p>\n",
       "</div>"
      ],
      "text/plain": [
       "   time  age    income  avg_spend  avg_reward  difficulty  duration  bogo  \\\n",
       "0     0   75  100000.0  22.752857    6.666667         5.0       7.0     1   \n",
       "1     0   68   70000.0  19.243333    3.500000        10.0       7.0     0   \n",
       "2     0   65   53000.0  12.143333    3.800000         5.0       5.0     1   \n",
       "3     0   58   51000.0   3.905000    2.000000         0.0       4.0     0   \n",
       "4     0   61   57000.0  14.258333    8.333333        20.0      10.0     0   \n",
       "\n",
       "   discount  informational  ...  gender_F  gender_M  gender_O  \\\n",
       "0         0              0  ...         1         0         0   \n",
       "1         1              0  ...         0         1         0   \n",
       "2         0              0  ...         0         1         0   \n",
       "3         0              1  ...         0         1         0   \n",
       "4         1              0  ...         1         0         0   \n",
       "\n",
       "   became_member_on_2013  became_member_on_2014  became_member_on_2015  \\\n",
       "0                      0                      0                      0   \n",
       "1                      0                      0                      0   \n",
       "2                      0                      0                      0   \n",
       "3                      0                      0                      0   \n",
       "4                      0                      0                      0   \n",
       "\n",
       "   became_member_on_2016  became_member_on_2017  became_member_on_2018  \\\n",
       "0                      0                      1                      0   \n",
       "1                      0                      0                      1   \n",
       "2                      0                      0                      1   \n",
       "3                      0                      1                      0   \n",
       "4                      0                      1                      0   \n",
       "\n",
       "   offer received  \n",
       "0               1  \n",
       "1               1  \n",
       "2               1  \n",
       "3               1  \n",
       "4               1  \n",
       "\n",
       "[5 rows x 24 columns]"
      ]
     },
     "execution_count": 71,
     "metadata": {},
     "output_type": "execute_result"
    }
   ],
   "source": [
    "X.head()"
   ]
  },
  {
   "cell_type": "code",
   "execution_count": 72,
   "metadata": {},
   "outputs": [
    {
     "data": {
      "text/plain": [
       "((148805, 24), (148805,))"
      ]
     },
     "execution_count": 72,
     "metadata": {},
     "output_type": "execute_result"
    }
   ],
   "source": [
    "X.shape,y.shape"
   ]
  },
  {
   "cell_type": "code",
   "execution_count": 73,
   "metadata": {},
   "outputs": [
    {
     "data": {
      "text/plain": [
       "Index(['time', 'age', 'income', 'avg_spend', 'avg_reward', 'difficulty',\n",
       "       'duration', 'bogo', 'discount', 'informational', 'email', 'mobile',\n",
       "       'social', 'web', 'gender_F', 'gender_M', 'gender_O',\n",
       "       'became_member_on_2013', 'became_member_on_2014',\n",
       "       'became_member_on_2015', 'became_member_on_2016',\n",
       "       'became_member_on_2017', 'became_member_on_2018', 'offer received'],\n",
       "      dtype='object')"
      ]
     },
     "execution_count": 73,
     "metadata": {},
     "output_type": "execute_result"
    }
   ],
   "source": [
    "X_train, X_test, y_train, y_test = train_test_split(X, y, test_size=0.33, random_state=11)\n",
    "X_train.columns"
   ]
  },
  {
   "cell_type": "code",
   "execution_count": 74,
   "metadata": {},
   "outputs": [
    {
     "data": {
      "image/png": "[encoded data removed]",
      "text/plain": [
       "<Figure size 432x288 with 2 Axes>"
      ]
     },
     "metadata": {
      "needs_background": "light"
     },
     "output_type": "display_data"
    }
   ],
   "source": [
    "sns.heatmap(X.corr(),xticklabels=True, yticklabels=True)\n",
    "plt.show()"
   ]
  },
  {
   "cell_type": "code",
   "execution_count": 75,
   "metadata": {},
   "outputs": [
    {
     "name": "stderr",
     "output_type": "stream",
     "text": [
      "/usr/local/lib/python3.9/site-packages/pandas/core/frame.py:4305: SettingWithCopyWarning: \n",
      "A value is trying to be set on a copy of a slice from a DataFrame\n",
      "\n",
      "See the caveats in the documentation: https://pandas.pydata.org/pandas-docs/stable/user_guide/indexing.html#returning-a-view-versus-a-copy\n",
      "  return super().drop(\n"
     ]
    },
    {
     "data": {
      "image/png": "[encoded data removed]",
      "text/plain": [
       "<Figure size 432x288 with 2 Axes>"
      ]
     },
     "metadata": {
      "needs_background": "light"
     },
     "output_type": "display_data"
    }
   ],
   "source": [
    "## drop email column to remove Danish flag effect\n",
    "X.drop(columns=['email'],inplace=True)\n",
    "sns.heatmap(X.corr(),xticklabels=True, yticklabels=True)\n",
    "plt.show()"
   ]
  },
  {
   "cell_type": "code",
   "execution_count": 76,
   "metadata": {},
   "outputs": [
    {
     "name": "stderr",
     "output_type": "stream",
     "text": [
      "<ipython-input-76-1f4d544b9a3d>:19: RuntimeWarning: invalid value encountered in long_scalars\n",
      "  accuracy[i+' Precision'].append(tp/(tp+fp))\n"
     ]
    }
   ],
   "source": [
    "accuracy={}\n",
    "for i in ['viewed','completed']:\n",
    "    X,y = X_Y(i)\n",
    "    X.drop(columns=['email'],inplace=True)\n",
    "    X_train, X_test, y_train, y_test = train_test_split(X, y, test_size=0.33, random_state=11)\n",
    "    accuracy[i+' Accuracy']=[]\n",
    "    accuracy[i+' Sensitivity']=[]\n",
    "    accuracy[i+' Specificity']=[]\n",
    "    accuracy[i+' Precision']=[]\n",
    "    accuracy[i+' Negative Predictive Value']=[]\n",
    "    \n",
    "    for classifier in [GaussianNB(),LogisticRegression(solver='liblinear'),KNeighborsClassifier(n_neighbors=5)]:\n",
    "        model = classifier.fit(X_train,y_train)\n",
    "        y_pred = model.predict(X_test)\n",
    "        tn, fp, fn, tp=confusion_matrix(y_test,y_pred).ravel()\n",
    "        accuracy[i+' Accuracy'].append((tp+tn)/(tp+tn+fp+fn))\n",
    "        accuracy[i+' Sensitivity'].append(tp/(tp+fn))\n",
    "        accuracy[i+' Specificity'].append(tn/(tn+fp))\n",
    "        accuracy[i+' Precision'].append(tp/(tp+fp))\n",
    "        accuracy[i+' Negative Predictive Value'].append(tn/(tn+fn))    \n",
    "    "
   ]
  },
  {
   "cell_type": "markdown",
   "metadata": {},
   "source": [
    "### 6.6 Results"
   ]
  },
  {
   "cell_type": "code",
   "execution_count": 77,
   "metadata": {},
   "outputs": [
    {
     "data": {
      "text/plain": [
       "{'viewed Accuracy': [0.7867674011322445,\n",
       "  0.6656824013358856,\n",
       "  0.6968394900826783],\n",
       " 'viewed Sensitivity': [0.5276847170615825, 0.0, 0.3588353535968813],\n",
       " 'viewed Specificity': [0.9168833552571202, 1.0, 0.8665912080516381],\n",
       " 'viewed Precision': [0.7612478031634446, nan, 0.5746195864221615],\n",
       " 'viewed Negative Predictive Value': [0.7944653554577745,\n",
       "  0.6656824013358856,\n",
       "  0.7290883821485561],\n",
       " 'completed Accuracy': [0.8592053425578937,\n",
       "  0.7371000288267512,\n",
       "  0.7679446526376478],\n",
       " 'completed Sensitivity': [0.5049725810948973,\n",
       "  0.014127707035969885,\n",
       "  0.44585928060228647],\n",
       " 'completed Specificity': [0.9826686967507856,\n",
       "  0.9890828987009621,\n",
       "  0.8802034403446823],\n",
       " 'completed Precision': [0.9103552278820375,\n",
       "  0.310838445807771,\n",
       "  0.5646851088875809],\n",
       " 'completed Negative Predictive Value': [0.8506449803701627,\n",
       "  0.7421668003597559,\n",
       "  0.8200585518969004]}"
      ]
     },
     "execution_count": 77,
     "metadata": {},
     "output_type": "execute_result"
    }
   ],
   "source": [
    "accuracy"
   ]
  },
  {
   "cell_type": "code",
   "execution_count": 82,
   "metadata": {},
   "outputs": [],
   "source": [
    "accuracy['method']= ['Gaussian','Logistic','KNeigh']"
   ]
  },
  {
   "cell_type": "code",
   "execution_count": 83,
   "metadata": {},
   "outputs": [
    {
     "data": {
      "text/html": [
       "<div>\n",
       "<style scoped>\n",
       "    .dataframe tbody tr th:only-of-type {\n",
       "        vertical-align: middle;\n",
       "    }\n",
       "\n",
       "    .dataframe tbody tr th {\n",
       "        vertical-align: top;\n",
       "    }\n",
       "\n",
       "    .dataframe thead th {\n",
       "        text-align: right;\n",
       "    }\n",
       "</style>\n",
       "<table border=\"1\" class=\"dataframe\">\n",
       "  <thead>\n",
       "    <tr style=\"text-align: right;\">\n",
       "      <th></th>\n",
       "      <th>viewed Accuracy</th>\n",
       "      <th>viewed Sensitivity</th>\n",
       "      <th>viewed Specificity</th>\n",
       "      <th>viewed Precision</th>\n",
       "      <th>viewed Negative Predictive Value</th>\n",
       "      <th>completed Accuracy</th>\n",
       "      <th>completed Sensitivity</th>\n",
       "      <th>completed Specificity</th>\n",
       "      <th>completed Precision</th>\n",
       "      <th>completed Negative Predictive Value</th>\n",
       "      <th>method</th>\n",
       "    </tr>\n",
       "  </thead>\n",
       "  <tbody>\n",
       "    <tr>\n",
       "      <th>0</th>\n",
       "      <td>0.786767</td>\n",
       "      <td>0.527685</td>\n",
       "      <td>0.916883</td>\n",
       "      <td>0.761248</td>\n",
       "      <td>0.794465</td>\n",
       "      <td>0.859205</td>\n",
       "      <td>0.504973</td>\n",
       "      <td>0.982669</td>\n",
       "      <td>0.910355</td>\n",
       "      <td>0.850645</td>\n",
       "      <td>Gaussian</td>\n",
       "    </tr>\n",
       "    <tr>\n",
       "      <th>1</th>\n",
       "      <td>0.665682</td>\n",
       "      <td>0.000000</td>\n",
       "      <td>1.000000</td>\n",
       "      <td>NaN</td>\n",
       "      <td>0.665682</td>\n",
       "      <td>0.737100</td>\n",
       "      <td>0.014128</td>\n",
       "      <td>0.989083</td>\n",
       "      <td>0.310838</td>\n",
       "      <td>0.742167</td>\n",
       "      <td>Logistic</td>\n",
       "    </tr>\n",
       "    <tr>\n",
       "      <th>2</th>\n",
       "      <td>0.696839</td>\n",
       "      <td>0.358835</td>\n",
       "      <td>0.866591</td>\n",
       "      <td>0.574620</td>\n",
       "      <td>0.729088</td>\n",
       "      <td>0.767945</td>\n",
       "      <td>0.445859</td>\n",
       "      <td>0.880203</td>\n",
       "      <td>0.564685</td>\n",
       "      <td>0.820059</td>\n",
       "      <td>KNeigh</td>\n",
       "    </tr>\n",
       "  </tbody>\n",
       "</table>\n",
       "</div>"
      ],
      "text/plain": [
       "   viewed Accuracy  viewed Sensitivity  viewed Specificity  viewed Precision  \\\n",
       "0         0.786767            0.527685            0.916883          0.761248   \n",
       "1         0.665682            0.000000            1.000000               NaN   \n",
       "2         0.696839            0.358835            0.866591          0.574620   \n",
       "\n",
       "   viewed Negative Predictive Value  completed Accuracy  \\\n",
       "0                          0.794465            0.859205   \n",
       "1                          0.665682            0.737100   \n",
       "2                          0.729088            0.767945   \n",
       "\n",
       "   completed Sensitivity  completed Specificity  completed Precision  \\\n",
       "0               0.504973               0.982669             0.910355   \n",
       "1               0.014128               0.989083             0.310838   \n",
       "2               0.445859               0.880203             0.564685   \n",
       "\n",
       "   completed Negative Predictive Value    method  \n",
       "0                             0.850645  Gaussian  \n",
       "1                             0.742167  Logistic  \n",
       "2                             0.820059    KNeigh  "
      ]
     },
     "execution_count": 83,
     "metadata": {},
     "output_type": "execute_result"
    }
   ],
   "source": [
    "final_result=pd.DataFrame(accuracy)\n",
    "final_result"
   ]
  },
  {
   "cell_type": "code",
   "execution_count": 84,
   "metadata": {},
   "outputs": [
    {
     "data": {
      "text/html": [
       "<div>\n",
       "<style scoped>\n",
       "    .dataframe tbody tr th:only-of-type {\n",
       "        vertical-align: middle;\n",
       "    }\n",
       "\n",
       "    .dataframe tbody tr th {\n",
       "        vertical-align: top;\n",
       "    }\n",
       "\n",
       "    .dataframe thead th {\n",
       "        text-align: right;\n",
       "    }\n",
       "</style>\n",
       "<table border=\"1\" class=\"dataframe\">\n",
       "  <thead>\n",
       "    <tr style=\"text-align: right;\">\n",
       "      <th></th>\n",
       "      <th>method</th>\n",
       "      <th>completed Negative Predictive Value</th>\n",
       "      <th>completed Precision</th>\n",
       "      <th>completed Specificity</th>\n",
       "      <th>completed Sensitivity</th>\n",
       "      <th>completed Accuracy</th>\n",
       "    </tr>\n",
       "  </thead>\n",
       "  <tbody>\n",
       "    <tr>\n",
       "      <th>0</th>\n",
       "      <td>Gaussian</td>\n",
       "      <td>0.850645</td>\n",
       "      <td>0.910355</td>\n",
       "      <td>0.982669</td>\n",
       "      <td>0.504973</td>\n",
       "      <td>0.859205</td>\n",
       "    </tr>\n",
       "    <tr>\n",
       "      <th>1</th>\n",
       "      <td>Logistic</td>\n",
       "      <td>0.742167</td>\n",
       "      <td>0.310838</td>\n",
       "      <td>0.989083</td>\n",
       "      <td>0.014128</td>\n",
       "      <td>0.737100</td>\n",
       "    </tr>\n",
       "    <tr>\n",
       "      <th>2</th>\n",
       "      <td>KNeigh</td>\n",
       "      <td>0.820059</td>\n",
       "      <td>0.564685</td>\n",
       "      <td>0.880203</td>\n",
       "      <td>0.445859</td>\n",
       "      <td>0.767945</td>\n",
       "    </tr>\n",
       "  </tbody>\n",
       "</table>\n",
       "</div>"
      ],
      "text/plain": [
       "     method  completed Negative Predictive Value  completed Precision  \\\n",
       "0  Gaussian                             0.850645             0.910355   \n",
       "1  Logistic                             0.742167             0.310838   \n",
       "2    KNeigh                             0.820059             0.564685   \n",
       "\n",
       "   completed Specificity  completed Sensitivity  completed Accuracy  \n",
       "0               0.982669               0.504973            0.859205  \n",
       "1               0.989083               0.014128            0.737100  \n",
       "2               0.880203               0.445859            0.767945  "
      ]
     },
     "execution_count": 84,
     "metadata": {},
     "output_type": "execute_result"
    }
   ],
   "source": [
    "final_result[final_result.columns[::-1][:6]]"
   ]
  },
  {
   "cell_type": "code",
   "execution_count": 86,
   "metadata": {},
   "outputs": [
    {
     "data": {
      "image/png": "[encoded data removed]",
      "text/plain": [
       "<Figure size 432x288 with 1 Axes>"
      ]
     },
     "metadata": {
      "needs_background": "light"
     },
     "output_type": "display_data"
    }
   ],
   "source": [
    "final_result.plot(x='method',y=['viewed Specificity','completed Specificity','viewed Sensitivity','completed Sensitivity'])\n",
    "plt.ylabel('accuracy')\n",
    "plt.show()"
   ]
  },
  {
   "cell_type": "markdown",
   "metadata": {},
   "source": [
    "### 6.6 Data modelling findings\n",
    "Three classification methods were tried to assess whether customer views/completes the offer. The selected algorithms are the following:\n",
    "- Gaussian (Naive Bayes), which is used based on the assumption that all the features are independent\n",
    "- Logistic regression, which is utilized considering that decision surface linear\n",
    "- K-Nearest Neighbours, which is applied assuming that there are no outliers.\n",
    "\n",
    "It turns out that all the classification models have specificity and sensitivity when analyzing offer completion event. General trend shows that Gaussian classifier has the highest perfomance followed by Kneigh and lastly Logistic. This suggest that most of parameters (features) might be independent. Lower Kneigh accuracy might be associated to the outliers present in this data. Lastly, poor performance of Logistic Regression implies that decision surface is not linearly separable and other methods for the classification should be used. "
   ]
  },
  {
   "cell_type": "markdown",
   "metadata": {},
   "source": [
    "## 7. Conclusions\n",
    "Based on this study the suggestions to increase the completion, effectiveness of the Starbucks offers strategy are the following:\n",
    "- Use more social channels to promote the offers\n",
    "- More focus on young people\n",
    "- Target more women than men\n",
    "- Don't send bogo and difficult offers to people with 30000–70000 USD income\n",
    "\n",
    "As for data modelling, Gaussian classifier works the best for the given problem. With the given dataset the specificity an sensitivity of 98.2% and 50.4% was achieved,respectively. Superior performance of Gaussian (Naive Bayes) over other classifier implies that most of the features are independent or loosely dependent, which can be seen in the correlation matrix.\n"
   ]
  },
  {
   "cell_type": "markdown",
   "metadata": {},
   "source": [
    "## 8. Improvements"
   ]
  },
  {
   "cell_type": "markdown",
   "metadata": {},
   "source": [
    "The modelling can be improved by more specific feature engineering. Such as, building a feature which provides information about average time between receiving offer and viewing it. On top of that, data scalling/normalization might be considered to improve the model performance. Lastly, model hyperparemeters might be also tuned to achieve higher performance. \n"
   ]
  }
 ],
 "metadata": {
  "kernelspec": {
   "display_name": "Python 3",
   "language": "python",
   "name": "python3"
  },
  "language_info": {
   "codemirror_mode": {
    "name": "ipython",
    "version": 3
   },
   "file_extension": ".py",
   "mimetype": "text/x-python",
   "name": "python",
   "nbconvert_exporter": "python",
   "pygments_lexer": "ipython3",
   "version": "3.9.1"
  }
 },
 "nbformat": 4,
 "nbformat_minor": 2
}
